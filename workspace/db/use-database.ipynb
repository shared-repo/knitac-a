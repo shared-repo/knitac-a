{
 "cells": [
  {
   "cell_type": "code",
   "execution_count": 6,
   "metadata": {},
   "outputs": [
    {
     "name": "stdout",
     "output_type": "stream",
     "text": [
      "Collecting cryptography\n",
      "  Using cached cryptography-36.0.1-cp36-abi3-win_amd64.whl (2.2 MB)\n",
      "Collecting cffi>=1.12\n",
      "  Downloading cffi-1.15.0-cp38-cp38-win_amd64.whl (179 kB)\n",
      "Collecting pycparser\n",
      "  Using cached pycparser-2.21-py2.py3-none-any.whl (118 kB)\n",
      "Installing collected packages: pycparser, cffi, cryptography\n",
      "Successfully installed cffi-1.15.0 cryptography-36.0.1 pycparser-2.21\n"
     ]
    }
   ],
   "source": [
    "# !command -> command를 명령 프롬프트(terminal)에서 실행\n",
    "\n",
    "# pymysql : MySQL 데이터베이스와 대화할 수 있는 모듈\n",
    "# !pip install pymysql  \n",
    "\n",
    "# cryptography : 암호화 모듈 (pymysql이 패스워드 암호화에 사용해서 필요)\n",
    "# !pip install cryptography"
   ]
  },
  {
   "cell_type": "code",
   "execution_count": 1,
   "metadata": {},
   "outputs": [],
   "source": [
    "import pymysql"
   ]
  },
  {
   "cell_type": "code",
   "execution_count": 2,
   "metadata": {},
   "outputs": [],
   "source": [
    "# 데이터베이스 연결\n",
    "conn = pymysql.connect(host=\"localhost\", port=3306, db=\"employees\",\n",
    "                       user=\"knitac\", password=\"knitac\", \n",
    "                       charset=\"utf8\")"
   ]
  },
  {
   "cell_type": "code",
   "execution_count": 3,
   "metadata": {},
   "outputs": [],
   "source": [
    "# cursor : 명령을 전달하고 실행 요청하고 결과를 수신하는 객체\n",
    "cursor = conn.cursor()"
   ]
  },
  {
   "cell_type": "code",
   "execution_count": 4,
   "metadata": {},
   "outputs": [
    {
     "data": {
      "text/plain": [
       "10"
      ]
     },
     "execution_count": 4,
     "metadata": {},
     "output_type": "execute_result"
    }
   ],
   "source": [
    "# 명령을 전달하고 실행 요청\n",
    "sql = \"SELECT emp_no, first_name, last_name FROM employees LIMIT 10\" # LIMIT 10 : 전체 결과중에서 앞 10개만 조회\n",
    "cursor.execute(sql)"
   ]
  },
  {
   "cell_type": "code",
   "execution_count": 5,
   "metadata": {},
   "outputs": [],
   "source": [
    "# 실행 결과를 읽어서 객체에 저장\n",
    "rows = cursor.fetchall() "
   ]
  },
  {
   "cell_type": "code",
   "execution_count": 6,
   "metadata": {},
   "outputs": [
    {
     "name": "stdout",
     "output_type": "stream",
     "text": [
      "(10001, 'Georgi', 'Facello')\n",
      "(10002, 'Bezalel', 'Simmel')\n",
      "(10003, 'Parto', 'Bamford')\n",
      "(10004, 'Chirstian', 'Koblick')\n",
      "(10005, 'Kyoichi', 'Maliniak')\n",
      "(10006, 'Anneke', 'Preusig')\n",
      "(10007, 'Tzvetan', 'Zielinski')\n",
      "(10008, 'Saniya', 'Kalloufi')\n",
      "(10009, 'Sumant', 'Peac')\n",
      "(10010, 'Duangkaew', 'Piveteau')\n"
     ]
    }
   ],
   "source": [
    "for row in rows:\n",
    "    print(row)"
   ]
  },
  {
   "cell_type": "code",
   "execution_count": 7,
   "metadata": {},
   "outputs": [],
   "source": [
    "# 연결 종료\n",
    "cursor.close()\n",
    "conn.close()"
   ]
  },
  {
   "cell_type": "code",
   "execution_count": null,
   "metadata": {},
   "outputs": [],
   "source": []
  },
  {
   "cell_type": "code",
   "execution_count": 4,
   "metadata": {},
   "outputs": [],
   "source": [
    "# 연결 정보를 딕셔너리형 변수에 저장\n",
    "connection_info = { \"host\": \"localhost\", \"port\": 3306, \"db\": \"employees\",\n",
    "                    \"user\": \"knitac\", \"password\": \"knitac\",\n",
    "                    \"charset\": \"utf8\" }"
   ]
  },
  {
   "cell_type": "code",
   "execution_count": 9,
   "metadata": {},
   "outputs": [],
   "source": [
    "import pymysql\n",
    "# conn = pymysql.connect(host=connection_info[\"host\"], \n",
    "#                        port=connection_info[\"port\"],\n",
    "#                        db=connection_info[\"db\"],\n",
    "#                        user=connection_info[\"user\"],\n",
    "#                        password=connection_info[\"password\"],\n",
    "#                        charset=connection_info[\"charset\"])\n",
    "\n",
    "# (**connection_info) -> ( host=\"localhost\", port=3306,\n",
    "# \t\t                   db=\"employees\", user=\"knitac\",\n",
    "#             \t\t       password=\"knitac\", charset=\"utf8\" )\n",
    "conn = pymysql.connect(**connection_info) # **dict : dict를 풀어서 전달인자 체계로 변경\n",
    "\n",
    "cursor = conn.cursor()\n",
    "\n",
    "cursor.execute(\"DELETE FROM employees WHERE emp_no = 500004\")\n",
    "# conn.commit()\n",
    "sql = \"\"\"\n",
    "    INSERT INTO employees (emp_no,birth_date,first_name,last_name,gender,hire_date)\n",
    "    VALUES (500004, '1990-2-24', 'JOHN', 'DOE', 'M', '2020-03-02')\n",
    "\"\"\"\n",
    "cursor.execute(sql)\n",
    "conn.commit() # 지금까지 실행한 모든 변경 내용을 데이터베이스에 적용\n",
    "\n",
    "cursor.close()\n",
    "conn.close()"
   ]
  },
  {
   "cell_type": "code",
   "execution_count": null,
   "metadata": {},
   "outputs": [],
   "source": []
  }
 ],
 "metadata": {
  "interpreter": {
   "hash": "9c5dc79ccd275e4361875addd540f1c9fe94d1fe5a32da65e0af0c955a58bc0b"
  },
  "kernelspec": {
   "display_name": "Python 3.8.12 ('knitac-env')",
   "language": "python",
   "name": "python3"
  },
  "language_info": {
   "codemirror_mode": {
    "name": "ipython",
    "version": 3
   },
   "file_extension": ".py",
   "mimetype": "text/x-python",
   "name": "python",
   "nbconvert_exporter": "python",
   "pygments_lexer": "ipython3",
   "version": "3.8.12"
  },
  "orig_nbformat": 4
 },
 "nbformat": 4,
 "nbformat_minor": 2
}
