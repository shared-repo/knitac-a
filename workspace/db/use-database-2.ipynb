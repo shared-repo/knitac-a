{
 "cells": [
  {
   "cell_type": "code",
   "execution_count": 1,
   "metadata": {},
   "outputs": [],
   "source": [
    "import pymysql"
   ]
  },
  {
   "cell_type": "code",
   "execution_count": 2,
   "metadata": {},
   "outputs": [],
   "source": [
    "# 연결 정보를 딕셔너리형 변수에 저장\n",
    "connection_info = { \"host\": \"localhost\", \"port\": 3306, \"db\": \"madang\",\n",
    "                    \"user\": \"knitac\", \"password\": \"knitac\",\n",
    "                    \"charset\": \"utf8\" }"
   ]
  },
  {
   "cell_type": "code",
   "execution_count": null,
   "metadata": {},
   "outputs": [],
   "source": [
    "# 1. madang 데이터베이스의 member 테이블에 데이터 삽입하는 코드 구현\n",
    "# 데이터 1\n",
    "#    memberid = 'iamuserone', passwd = 'iamuserone', \n",
    "#    email = 'iamuserone@example.com'\n",
    "#    usertype = 'user', active = true, \n",
    "#    regdate=현재시간\n",
    "# 데이터 2\n",
    "#    memberid = 'iamadminone', passwd = 'iamadminone', \n",
    "#    email = 'iamadminone@example.com'\n",
    "#    usertype = 'admin', active = true, \n",
    "#    regdate='2022-02-21'"
   ]
  },
  {
   "cell_type": "code",
   "execution_count": 3,
   "metadata": {},
   "outputs": [],
   "source": [
    "# 1.\n",
    "conn = pymysql.connect(**connection_info)\n",
    "cursor = conn.cursor()\n",
    "\n",
    "# 아래 DELETE 구문은 테스트용 선택 구문 ( 실제 작업에서는 필요 없는 구문 )\n",
    "cursor.execute(\"DELETE FROM member WHERE memberid = 'iamuserone'\") \n",
    "sql = \"\"\"\n",
    "    INSERT INTO member (memberid, passwd, email, usertype, active, regdate)\n",
    "    VALUES ('iamuserone', 'iamuserone', 'iamuserone@example.com', 'user', true, now())\n",
    "\"\"\"\n",
    "cursor.execute(sql)\n",
    "\n",
    "conn.commit()\n",
    "\n",
    "cursor.close()\n",
    "conn.close()"
   ]
  }
 ],
 "metadata": {
  "interpreter": {
   "hash": "9c5dc79ccd275e4361875addd540f1c9fe94d1fe5a32da65e0af0c955a58bc0b"
  },
  "kernelspec": {
   "display_name": "Python 3.8.12 ('knitac-env')",
   "language": "python",
   "name": "python3"
  },
  "language_info": {
   "codemirror_mode": {
    "name": "ipython",
    "version": 3
   },
   "file_extension": ".py",
   "mimetype": "text/x-python",
   "name": "python",
   "nbconvert_exporter": "python",
   "pygments_lexer": "ipython3",
   "version": "3.8.12"
  },
  "orig_nbformat": 4
 },
 "nbformat": 4,
 "nbformat_minor": 2
}
