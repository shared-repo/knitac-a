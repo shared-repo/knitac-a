{
 "cells": [
  {
   "cell_type": "code",
   "execution_count": 1,
   "metadata": {},
   "outputs": [],
   "source": [
    "import pymysql"
   ]
  },
  {
   "cell_type": "code",
   "execution_count": 2,
   "metadata": {},
   "outputs": [],
   "source": [
    "# 연결 정보를 딕셔너리형 변수에 저장\n",
    "connection_info = { \"host\": \"localhost\", \"port\": 3306, \"db\": \"madang\",\n",
    "                    \"user\": \"knitac\", \"password\": \"knitac\",\n",
    "                    \"charset\": \"utf8\" }"
   ]
  },
  {
   "cell_type": "code",
   "execution_count": null,
   "metadata": {},
   "outputs": [],
   "source": [
    "# 1. madang 데이터베이스의 member 테이블에 데이터 삽입하는 코드 구현\n",
    "# 데이터 1\n",
    "#    memberid = 'iamuserone', passwd = 'iamuserone', \n",
    "#    email = 'iamuserone@example.com'\n",
    "#    usertype = 'user', active = true, \n",
    "#    regdate=현재시간\n",
    "# 데이터 2\n",
    "#    memberid = 'iamadminone', passwd = 'iamadminone', \n",
    "#    email = 'iamadminone@example.com'\n",
    "#    usertype = 'admin', active = true, \n",
    "#    regdate='2022-02-21'"
   ]
  },
  {
   "cell_type": "code",
   "execution_count": 4,
   "metadata": {},
   "outputs": [],
   "source": [
    "# 1-1.\n",
    "conn = pymysql.connect(**connection_info)\n",
    "cursor = conn.cursor()\n",
    "\n",
    "# 아래 DELETE 구문은 테스트용 선택 구문 ( 실제 작업에서는 필요 없는 구문 )\n",
    "cursor.execute(\"DELETE FROM member WHERE memberid = 'iamuserone'\") \n",
    "sql = \"\"\"\n",
    "    INSERT INTO member (memberid, passwd, email, usertype, active, regdate)\n",
    "    VALUES ('iamuserone', 'iamuserone', 'iamuserone@example.com', 'user', true, now())\n",
    "\"\"\"\n",
    "cursor.execute(sql)\n",
    "\n",
    "conn.commit()\n",
    "\n",
    "cursor.close()\n",
    "conn.close()"
   ]
  },
  {
   "cell_type": "code",
   "execution_count": null,
   "metadata": {},
   "outputs": [],
   "source": [
    "# 1-2. sql과 데이터를 분리\n",
    "conn = pymysql.connect(**connection_info)\n",
    "cursor = conn.cursor()\n",
    "\n",
    "# 아래 DELETE 구문은 테스트용 선택 구문 ( 실제 작업에서는 필요 없는 구문 )\n",
    "cursor.execute(\"DELETE FROM member WHERE memberid = %s\", ('iamuserone', )) \n",
    "sql = \"\"\"\n",
    "    INSERT INTO member (memberid, passwd, email, usertype, active, regdate)\n",
    "    VALUES (%s, %s, %s, %s, true, now())\n",
    "\"\"\"\n",
    "cursor.execute(sql, ('iamuserone', 'iamuserone', 'iamuserone@example.com', 'user'))\n",
    "\n",
    "conn.commit()\n",
    "\n",
    "cursor.close()\n",
    "conn.close()"
   ]
  },
  {
   "cell_type": "code",
   "execution_count": 7,
   "metadata": {},
   "outputs": [],
   "source": [
    "# 1-3. 컬럼의 default value 활용\n",
    "conn = pymysql.connect(**connection_info)\n",
    "cursor = conn.cursor()\n",
    "\n",
    "# 아래 DELETE 구문은 테스트용 선택 구문 ( 실제 작업에서는 필요 없는 구문 )\n",
    "cursor.execute(\"DELETE FROM member WHERE memberid = %s\", ('iamuserone', )) \n",
    "sql = \"\"\"\n",
    "    INSERT INTO member (memberid, passwd, email)\n",
    "    VALUES (%s, %s, %s)\n",
    "\"\"\"\n",
    "cursor.execute(sql, ('iamuserone', 'iamuserone', 'iamuserone@example.com'))\n",
    "\n",
    "conn.commit()\n",
    "\n",
    "cursor.close()\n",
    "conn.close()"
   ]
  },
  {
   "cell_type": "code",
   "execution_count": null,
   "metadata": {},
   "outputs": [],
   "source": [
    "from datetime import datetime\n",
    "now = datetime.now()\n",
    "\"{0:04d}-{1:02d}-{2:02d}\".format(now.year, now.month, now.day)"
   ]
  },
  {
   "cell_type": "code",
   "execution_count": 10,
   "metadata": {},
   "outputs": [],
   "source": [
    "# 1-4. 여러 개의 데이터를 한 번에 insert\n",
    "conn = pymysql.connect(**connection_info)\n",
    "cursor = conn.cursor()\n",
    "\n",
    "# 아래 DELETE 구문은 테스트용 선택 구문 ( 실제 작업에서는 필요 없는 구문 )\n",
    "cursor.execute(\"DELETE FROM member\") \n",
    "sql = \"\"\"\n",
    "    INSERT INTO member (memberid, passwd, email, usertype, active, regdate)\n",
    "    VALUES (%s, %s, %s, %s, %s, %s)\n",
    "\"\"\"\n",
    "from datetime import datetime\n",
    "now = datetime.now()\n",
    "today = \"{0:04d}-{1:02d}-{2:02d}\".format(now.year, now.month, now.day)\n",
    "data = [\n",
    "    ['iamuserone', 'iamuserone', 'iamuserone@example.com', 'user', True, today],\n",
    "    ['iamadminone', 'iamadminone', 'iamadminone@example.com', 'admin', True, '2022-02-21']\n",
    "]\n",
    "cursor.executemany(sql, data) # executemany : 여러 개의 데이터를 한 번에 처리하는 함수\n",
    "\n",
    "conn.commit()\n",
    "\n",
    "cursor.close()\n",
    "conn.close()"
   ]
  },
  {
   "cell_type": "code",
   "execution_count": null,
   "metadata": {},
   "outputs": [],
   "source": []
  },
  {
   "cell_type": "code",
   "execution_count": 1,
   "metadata": {},
   "outputs": [],
   "source": [
    "import pymysql"
   ]
  },
  {
   "cell_type": "code",
   "execution_count": 2,
   "metadata": {},
   "outputs": [],
   "source": [
    "# 연결 정보를 딕셔너리형 변수에 저장\n",
    "connection_info = { \"host\": \"localhost\", \"port\": 3306, \"db\": \"madang\",\n",
    "                    \"user\": \"knitac\", \"password\": \"knitac\",\n",
    "                    \"charset\": \"utf8\" }"
   ]
  },
  {
   "cell_type": "code",
   "execution_count": null,
   "metadata": {},
   "outputs": [],
   "source": [
    "# 2. madang 데이터베이스의 board 테이블에 데이터 삽입하는 코드 구현\n",
    "# 데이터 1\n",
    "#    boardno = 자동증가기능사용 ( insert 문에 포함시키지 않으면 자동 처리 ), \n",
    "#    title = '첫 번째 게시글', \n",
    "#    writer = 'iamuserone' # member 테이블에 있는 데이터 사용 (foreign key이기 때문)\n",
    "#    content = '처음 작성한 글입니다. 확인해 주세요 !!!'"
   ]
  },
  {
   "cell_type": "code",
   "execution_count": 3,
   "metadata": {},
   "outputs": [],
   "source": [
    "try:\n",
    "    conn = pymysql.connect(**connection_info)\n",
    "    cursor = conn.cursor()\n",
    "    cursor.execute(\"delete from board\") # 테스트를 위해 작성하는 구문\n",
    "    sql = \"\"\"\n",
    "        insert into board (title, writer, content)\n",
    "        values (%s, %s, %s)\n",
    "    \"\"\"\n",
    "    cursor.execute(sql, ('첫 번째 게시글', 'iamuserone', '처음 작성한 글. 확인해 주세요'))\n",
    "    conn.commit() # 이전 작업을 확정 적용\n",
    "except:\n",
    "    conn.rollback() # 이전 작업을 취소\n",
    "finally:\n",
    "    cursor.close()\n",
    "    conn.close()"
   ]
  },
  {
   "cell_type": "code",
   "execution_count": 5,
   "metadata": {},
   "outputs": [
    {
     "name": "stdout",
     "output_type": "stream",
     "text": [
      "('iamadminone', 'iamadminone', 'iamadminone@example.com', 'admin', 1, datetime.date(2022, 2, 21))\n",
      "('iamuserone', 'iamuserone', 'iamuserone@example.com', 'user', 1, datetime.date(2022, 2, 24))\n"
     ]
    }
   ],
   "source": [
    "# 3. member 테이블의 모든 데이터를 조회해서 화면에 출력\n",
    "try:\n",
    "    conn = pymysql.connect(**connection_info)\n",
    "    cursor = conn.cursor()\n",
    "    cursor.execute(\"SELECT * FROM member\")\n",
    "    rows = cursor.fetchall()\n",
    "    for row in rows:\n",
    "        print(row)\n",
    "except Exception as e:\n",
    "    print(e) # 오류 메시지 출력 \n",
    "finally: # 예외 발생 여부와 관계 없이 실행되는 영역\n",
    "    cursor.close()\n",
    "    conn.close()"
   ]
  }
 ],
 "metadata": {
  "interpreter": {
   "hash": "9c5dc79ccd275e4361875addd540f1c9fe94d1fe5a32da65e0af0c955a58bc0b"
  },
  "kernelspec": {
   "display_name": "Python 3.8.12 ('knitac-env')",
   "language": "python",
   "name": "python3"
  },
  "language_info": {
   "codemirror_mode": {
    "name": "ipython",
    "version": 3
   },
   "file_extension": ".py",
   "mimetype": "text/x-python",
   "name": "python",
   "nbconvert_exporter": "python",
   "pygments_lexer": "ipython3",
   "version": "3.8.12"
  },
  "orig_nbformat": 4
 },
 "nbformat": 4,
 "nbformat_minor": 2
}
