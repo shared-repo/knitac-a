{
 "cells": [
  {
   "cell_type": "code",
   "execution_count": 3,
   "metadata": {},
   "outputs": [
    {
     "name": "stdout",
     "output_type": "stream",
     "text": [
      "1 - Got a true expression value\n",
      "100\n",
      "Good bye!\n"
     ]
    }
   ],
   "source": [
    "var1 = 100\n",
    "if var1: # 정수인 경우 0이면 False 아니면 True로 해석\n",
    "    print (\"1 - Got a true expression value\")\n",
    "    print (var1)\n",
    "\n",
    "var2 = 0\n",
    "if var2:\n",
    "    print (\"2 - Got a true expression value\")\n",
    "    print (var2)\n",
    "    \n",
    "print (\"Good bye!\")"
   ]
  },
  {
   "cell_type": "code",
   "execution_count": 6,
   "metadata": {},
   "outputs": [
    {
     "name": "stdout",
     "output_type": "stream",
     "text": [
      "8500.0\n"
     ]
    }
   ],
   "source": [
    "amount = 10000\n",
    "\n",
    "if amount < 1000:\n",
    "    discount = amount * 0.05\n",
    "elif amount < 5000:\n",
    "    discount = amount * 0.1\n",
    "else:\n",
    "    discount = amount * 0.15\n",
    "\n",
    "print( amount - discount )"
   ]
  },
  {
   "cell_type": "code",
   "execution_count": null,
   "metadata": {},
   "outputs": [],
   "source": [
    "pocket = ['paper', 'money', 'cellphone']\n",
    "if 'money' in pocket:\n",
    "    pass # 실행 내용 없음\n",
    "else:\n",
    "    print(\"카드를 꺼내라\")"
   ]
  },
  {
   "cell_type": "code",
   "execution_count": 7,
   "metadata": {},
   "outputs": [
    {
     "name": "stdout",
     "output_type": "stream",
     "text": [
      "장동건\n"
     ]
    }
   ],
   "source": [
    "# 사용자 입력 받기\n",
    "name = input(\"이름을 입력하세요 : \") # input : 사용자로부터 키보드 입력을 받는 명령 ( 입력 값은 항상 문자열 )\n",
    "print(name)"
   ]
  },
  {
   "cell_type": "code",
   "execution_count": 11,
   "metadata": {},
   "outputs": [
    {
     "name": "stdout",
     "output_type": "stream",
     "text": [
      "50 * 30 = 1500\n"
     ]
    }
   ],
   "source": [
    "# 계산기 만들기\n",
    "# 1. 숫자 입력\n",
    "# 2. 연산자 입력\n",
    "# 3. 숫자 입력\n",
    "# 4. 입력된 연산자에 따라 계산 선택\n",
    "# 5. 결과 출력\n",
    "\n",
    "number1 = input(\"첫 번째 숫자 : \")\n",
    "# print( type(number1) ) # type : 자료형을 확인하는 명령\n",
    "number1 = int(number1) # number1을 정수형으로 변환\n",
    "\n",
    "op = input(\"연산자 ( +, -, *, /, % ) : \")\n",
    "\n",
    "number2 = input(\"두 번째 숫자 : \")\n",
    "number2 = int(number2) # number2를 정수형으로 변환\n",
    "\n",
    "# print(number1, op, number2) # 테스트 코드\n",
    "\n",
    "if op == '+':\n",
    "    result = number1 + number2\n",
    "elif op == '-':\n",
    "    result = number1 - number2\n",
    "elif op == '*':\n",
    "    result = number1 * number2\n",
    "elif op == '/':\n",
    "    result = number1 / number2\n",
    "else:\n",
    "    result = number1 % number2\n",
    "\n",
    "print( \"{0} {1} {2} = {3}\".format(number1, op, number2, result) )"
   ]
  },
  {
   "cell_type": "code",
   "execution_count": null,
   "metadata": {},
   "outputs": [],
   "source": []
  }
 ],
 "metadata": {
  "interpreter": {
   "hash": "9c5dc79ccd275e4361875addd540f1c9fe94d1fe5a32da65e0af0c955a58bc0b"
  },
  "kernelspec": {
   "display_name": "Python 3.8.12 64-bit ('knitac-env': conda)",
   "language": "python",
   "name": "python3"
  },
  "language_info": {
   "codemirror_mode": {
    "name": "ipython",
    "version": 3
   },
   "file_extension": ".py",
   "mimetype": "text/x-python",
   "name": "python",
   "nbconvert_exporter": "python",
   "pygments_lexer": "ipython3",
   "version": "3.8.12"
  },
  "orig_nbformat": 4
 },
 "nbformat": 4,
 "nbformat_minor": 2
}
