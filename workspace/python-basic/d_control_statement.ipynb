{
 "cells": [
  {
   "cell_type": "code",
   "execution_count": 3,
   "metadata": {},
   "outputs": [
    {
     "name": "stdout",
     "output_type": "stream",
     "text": [
      "1 - Got a true expression value\n",
      "100\n",
      "Good bye!\n"
     ]
    }
   ],
   "source": [
    "var1 = 100\n",
    "if var1: # 정수인 경우 0이면 False 아니면 True로 해석\n",
    "    print (\"1 - Got a true expression value\")\n",
    "    print (var1)\n",
    "\n",
    "var2 = 0\n",
    "if var2:\n",
    "    print (\"2 - Got a true expression value\")\n",
    "    print (var2)\n",
    "    \n",
    "print (\"Good bye!\")"
   ]
  },
  {
   "cell_type": "code",
   "execution_count": 6,
   "metadata": {},
   "outputs": [
    {
     "name": "stdout",
     "output_type": "stream",
     "text": [
      "8500.0\n"
     ]
    }
   ],
   "source": [
    "amount = 10000\n",
    "\n",
    "if amount < 1000:\n",
    "    discount = amount * 0.05\n",
    "elif amount < 5000:\n",
    "    discount = amount * 0.1\n",
    "else:\n",
    "    discount = amount * 0.15\n",
    "\n",
    "print( amount - discount )"
   ]
  },
  {
   "cell_type": "code",
   "execution_count": null,
   "metadata": {},
   "outputs": [],
   "source": [
    "pocket = ['paper', 'money', 'cellphone']\n",
    "if 'money' in pocket:\n",
    "    pass # 실행 내용 없음\n",
    "else:\n",
    "    print(\"카드를 꺼내라\")"
   ]
  },
  {
   "cell_type": "code",
   "execution_count": 7,
   "metadata": {},
   "outputs": [
    {
     "name": "stdout",
     "output_type": "stream",
     "text": [
      "장동건\n"
     ]
    }
   ],
   "source": [
    "# 사용자 입력 받기\n",
    "name = input(\"이름을 입력하세요 : \") # input : 사용자로부터 키보드 입력을 받는 명령 ( 입력 값은 항상 문자열 )\n",
    "print(name)"
   ]
  },
  {
   "cell_type": "code",
   "execution_count": 18,
   "metadata": {},
   "outputs": [
    {
     "name": "stdout",
     "output_type": "stream",
     "text": [
      "20 - 20 = 0\n"
     ]
    }
   ],
   "source": [
    "# 계산기 만들기\n",
    "# 1. 숫자 입력\n",
    "# 2. 연산자 입력\n",
    "# 3. 숫자 입력\n",
    "# 4. 입력된 연산자에 따라 계산 선택\n",
    "# 5. 결과 출력\n",
    "\n",
    "number1 = input(\"첫 번째 숫자 : \")\n",
    "# print( type(number1) ) # type : 자료형을 확인하는 명령\n",
    "number1 = int(number1) # number1을 정수형으로 변환\n",
    "\n",
    "op = input(\"연산자 ( +, -, *, /, % ) : \")\n",
    "\n",
    "number2 = input(\"두 번째 숫자 : \")\n",
    "number2 = int(number2) # number2를 정수형으로 변환\n",
    "\n",
    "# print(number1, op, number2) # 테스트 코드\n",
    "valid = True\n",
    "if op == '+':\n",
    "    result = number1 + number2\n",
    "elif op == '-':\n",
    "    result = number1 - number2\n",
    "elif op == '*':\n",
    "    result = number1 * number2\n",
    "elif op == '/':\n",
    "    result = number1 / number2\n",
    "elif op == '%':\n",
    "    result = number1 % number2\n",
    "else:\n",
    "    valid = False\n",
    "    pass\n",
    "\n",
    "if valid:\n",
    "    print( \"{0} {1} {2} = {3}\".format(number1, op, number2, result) )\n",
    "else:\n",
    "    print(\"{0}은 지원하지 않는 연산자입니다.\".format(op))"
   ]
  },
  {
   "cell_type": "code",
   "execution_count": 82,
   "metadata": {},
   "outputs": [
    {
     "name": "stdout",
     "output_type": "stream",
     "text": [
      "[TOTAL : 226][MEAN : 75.33333333333333][GRADE : C]\n"
     ]
    }
   ],
   "source": [
    "# [ 점수 처리기 ]\n",
    "# 1. 0 ~ 100 사이의 세 개의 점수 만들기 ( 난수 발생 )\n",
    "# 2. 총점, 평균 계산\n",
    "# 3. 등급 계산 ( 평균에 따라 A[90 ~ 100], B[80 ~ 89], C[70 ~ 79], D[60 ~ 69], F[0 ~ 59] )\n",
    "# 4. 결과 출력\n",
    "\n",
    "import random # random 모듈 (파일)을 가져오기\n",
    "\n",
    "# print( random.random() ) # 0 ~ 1 사이의 난수 발생\n",
    "score1 = int( random.random() * 51 ) + 50 # 50 ~ 100(포함) 범위의 값 뽑기\n",
    "score2 = int( random.random() * 51 ) + 50 # 50 ~ 100(포함) 범위의 값 뽑기\n",
    "score3 = int( random.random() * 51 ) + 50 # 50 ~ 100(포함) 범위의 값 뽑기\n",
    "\n",
    "# print(score1, score2, score3)\n",
    "total = score1 + score2 + score3\n",
    "mean = total / 3\n",
    "# print(total, mean)\n",
    "valid = True\n",
    "if mean >= 90 and mean <= 100:\n",
    "    grade = 'A'\n",
    "elif mean >= 80 and mean < 90:\n",
    "    grade = 'B'\n",
    "elif mean >= 70 and mean < 80:\n",
    "    grade = 'C'\n",
    "elif mean >= 60 and mean < 70:\n",
    "    grade = 'D'\n",
    "elif mean >= 0 and mean < 60:\n",
    "    grade = 'F'\n",
    "else:\n",
    "    valid = False\n",
    "    \n",
    "if valid:\n",
    "    print(\"[TOTAL : {0}][MEAN : {1}][GRADE : {2}]\".format(total, mean, grade))\n",
    "else:\n",
    "    print(\"데이터에 문제가 있습니다.\")"
   ]
  },
  {
   "cell_type": "code",
   "execution_count": null,
   "metadata": {},
   "outputs": [],
   "source": []
  },
  {
   "cell_type": "code",
   "execution_count": 83,
   "metadata": {},
   "outputs": [
    {
     "name": "stdout",
     "output_type": "stream",
     "text": [
      "나무를 1번 찍었습니다.\n",
      "나무를 2번 찍었습니다.\n",
      "나무를 3번 찍었습니다.\n",
      "나무를 4번 찍었습니다.\n",
      "나무를 5번 찍었습니다.\n",
      "나무를 6번 찍었습니다.\n",
      "나무를 7번 찍었습니다.\n",
      "나무를 8번 찍었습니다.\n",
      "나무를 9번 찍었습니다.\n",
      "나무를 10번 찍었습니다.\n",
      "나무 넘어갑니다.\n",
      "End of program\n"
     ]
    }
   ],
   "source": [
    "# while statement\n",
    "treeHit = 0\n",
    "while treeHit < 10:\n",
    "    treeHit = treeHit + 1\n",
    "    print(\"나무를 %d번 찍었습니다.\" % treeHit)\n",
    "\n",
    "    if treeHit == 10:\n",
    "        print(\"나무 넘어갑니다.\")\n",
    "\n",
    "print( \"End of program\" )"
   ]
  },
  {
   "cell_type": "code",
   "execution_count": 85,
   "metadata": {},
   "outputs": [
    {
     "name": "stdout",
     "output_type": "stream",
     "text": [
      "1\n",
      "2\n",
      "3\n",
      "4\n",
      "5\n",
      "1\n",
      "2\n",
      "3\n",
      "4\n",
      "5\n"
     ]
    }
   ],
   "source": [
    "data = [1, 2, 3, 4, 5]\n",
    "idx = 0\n",
    "while idx < len(data): # len(data) : data 리스트에 포함된 데이터 갯수\n",
    "    print(data[idx])\n",
    "    idx += 1 # idx = idx + 1\n",
    "\n",
    "for d in data:\n",
    "    print(d)"
   ]
  },
  {
   "cell_type": "code",
   "execution_count": 87,
   "metadata": {},
   "outputs": [
    {
     "data": {
      "text/plain": [
       "[1, 2, 3, 4, 5, 6, 7, 8, 9, 10]"
      ]
     },
     "execution_count": 87,
     "metadata": {},
     "output_type": "execute_result"
    }
   ],
   "source": [
    "list( range(1, 11) )"
   ]
  },
  {
   "cell_type": "code",
   "execution_count": 88,
   "metadata": {},
   "outputs": [
    {
     "name": "stdout",
     "output_type": "stream",
     "text": [
      "55\n"
     ]
    }
   ],
   "source": [
    "# 1 ~ 10까지의 합\n",
    "sum2 = 0 \n",
    "for i in range(1, 11): \n",
    "    sum2 = sum2 + i \n",
    "\n",
    "print(sum2)"
   ]
  },
  {
   "cell_type": "code",
   "execution_count": 92,
   "metadata": {},
   "outputs": [
    {
     "name": "stdout",
     "output_type": "stream",
     "text": [
      "1 2 3 4 \n",
      "1 2 3 4 "
     ]
    }
   ],
   "source": [
    "# mylist=[1,2,3,4]\n",
    "mylist=range(1, 5)\n",
    "it = iter(mylist) # 반복자 가져오기\n",
    "while True:\n",
    "    try:\n",
    "        n = next(it) # 반복자가 참조하는 리스트(목록)의 다음 요소 가져오기\n",
    "        print(n, end=\" \")\n",
    "    except:\n",
    "        break\n",
    "\n",
    "print(\"\")\n",
    "\n",
    "for x in mylist:\n",
    "    print (x, end=\" \")"
   ]
  },
  {
   "cell_type": "code",
   "execution_count": 100,
   "metadata": {},
   "outputs": [
    {
     "name": "stdout",
     "output_type": "stream",
     "text": [
      "[1, 3, 5, 7, 9]\n",
      "[1, 3, 5, 7, 9]\n",
      "{1: 1, 4: 1, 9: 1, 16: 1, 25: 1, 36: 1, 49: 1, 64: 1, 81: 1, 100: 1}\n"
     ]
    }
   ],
   "source": [
    "# data로부터 홀수만 뽑아서 다른 리스트에 저장\n",
    "data = list(range(1, 11))  # [1, 2, 3, 4, 5, 6, 7, 8, 9, 10]\n",
    "\n",
    "oddNumbers = []\n",
    "for n in data:\n",
    "    if n % 2 == 1:\n",
    "        oddNumbers.append(n) # 리스트의 끝에 데이터 추가\n",
    "print(oddNumbers)\n",
    "\n",
    "oddNumbers2 = [n for n in data if n % 2 == 1]\n",
    "print( oddNumbers2 )\n",
    "\n",
    "allNumbers = [n**2 for n in data]\n",
    "print( allNumbers ) "
   ]
  },
  {
   "cell_type": "code",
   "execution_count": 101,
   "metadata": {},
   "outputs": [
    {
     "name": "stdout",
     "output_type": "stream",
     "text": [
      "커피를 줍니다.\n",
      "남은 커피의 양은 2개 입니다.\n",
      "거스름돈 50를 주고 커피를 줍니다.\n",
      "남은 커피의 양은 1개 입니다.\n",
      "거스름돈 50를 주고 커피를 줍니다.\n",
      "남은 커피의 양은 0개 입니다.\n",
      "커피가 다 떨어졌습니다. 판매를 중지 합니다.\n"
     ]
    }
   ],
   "source": [
    "coffee = 3\n",
    "while True: # 무한 반복\n",
    "    money = int(input(\"돈을 넣어 주세요: \"))\n",
    "    if money == 300:\n",
    "        print(\"커피를 줍니다.\")\n",
    "        coffee = coffee -1\n",
    "    elif money > 300:\n",
    "        print(\"거스름돈 %d를 주고 커피를 줍니다.\" % (money - 300))\n",
    "        coffee = coffee - 1\n",
    "    else:\n",
    "        print(\"돈을 다시 돌려주고 커피를 주지 않습니다.\")\n",
    "    \n",
    "    print(\"남은 커피의 양은 %d개 입니다.\" % coffee)\n",
    "\n",
    "    if not coffee: # if coffee == 0\n",
    "        print(\"커피가 다 떨어졌습니다. 판매를 중지 합니다.\")\n",
    "        break # 반복문 종료\n"
   ]
  },
  {
   "cell_type": "code",
   "execution_count": 104,
   "metadata": {},
   "outputs": [
    {
     "name": "stdout",
     "output_type": "stream",
     "text": [
      "1\n",
      "3\n",
      "5\n",
      "7\n",
      "9\n"
     ]
    }
   ],
   "source": [
    "a = 0\n",
    "while a < 10:\n",
    "    a += 1 # a = a + 1\n",
    "    if a % 2 == 0: # 짝수이면\n",
    "        continue # 즉시 (아래 문장은 실행하지 않고) 반복문의 처음으로 이동\n",
    "    print(a)"
   ]
  },
  {
   "cell_type": "code",
   "execution_count": 139,
   "metadata": {},
   "outputs": [
    {
     "name": "stdout",
     "output_type": "stream",
     "text": [
      "[6, 20, 25, 25, 32, 33]\n"
     ]
    }
   ],
   "source": [
    "# 로또 번호 추출기 1 (중복을 허용하는 숫자 뽑기)\n",
    "\n",
    "# 1. 1 ~ 45, Random, 중복X, 6개 숫자 뽑아서 리스트에 저장\n",
    "import random # Random 데이터를 뽑는 기능을 제공하는 모듈\n",
    "\n",
    "numbers = []\n",
    "for idx in range(6):\n",
    "    # n = int(random.random() * 45) + 1 # 1 ~ 45(포함) 사이의 Random 정수\n",
    "    n = random.randrange(1, 46) # 1 ~ 45(포함) 사이의 Random 정수\n",
    "    numbers.append(n) # 리스트에 추가\n",
    "\n",
    "numbers.sort() # 오름차순 정렬\n",
    "print(numbers)\n"
   ]
  },
  {
   "cell_type": "code",
   "execution_count": 142,
   "metadata": {},
   "outputs": [
    {
     "name": "stdout",
     "output_type": "stream",
     "text": [
      "0\n",
      "1\n",
      "2\n",
      "3\n",
      "4\n",
      "5\n"
     ]
    }
   ],
   "source": [
    "for n in range(10):\n",
    "    print(n)\n",
    "    if n == 5:\n",
    "        break\n",
    "else: # 반복문 끝까지 다 실행되었을 때 ( 중간에 break가 없는 경우 )\n",
    "    print('else')"
   ]
  },
  {
   "cell_type": "code",
   "execution_count": 160,
   "metadata": {},
   "outputs": [
    {
     "name": "stdout",
     "output_type": "stream",
     "text": [
      "[1, 10, 26, 28, 34, 38]\n"
     ]
    }
   ],
   "source": [
    "# 로또 번호 추출기 2 (중복을 허용하지 않는 숫자 뽑기)\n",
    "\n",
    "# 1. 1 ~ 45, Random, 중복X, 6개 숫자 뽑아서 리스트에 저장\n",
    "import random # Random 데이터를 뽑는 기능을 제공하는 모듈\n",
    "\n",
    "numbers = []\n",
    "idx = 0\n",
    "while idx < 6: # 중복이 몇 번 발생할지 미리 예측할 수 없기 때문에 for -> while로 변경\n",
    "    n = random.randrange(1, 46) # 1 ~ 45(포함) 사이의 Random 정수\n",
    "    for i in range(idx): # 기존에 뽑힌 데이터와 새로 뽑힌 데이터를 비교하는 반복문\n",
    "        if n == numbers[i]: # 중복이 발생한 경우\n",
    "            break\n",
    "    else: # 중복이 발생하지 않은 경우 (위 반복문에서 break가 실행되지 않은 경우)\n",
    "        numbers.append(n) # 리스트에 추가\n",
    "        idx += 1\n",
    "\n",
    "numbers.sort() # 오름차순 정렬\n",
    "print(numbers)"
   ]
  },
  {
   "cell_type": "code",
   "execution_count": 37,
   "metadata": {},
   "outputs": [
    {
     "name": "stdout",
     "output_type": "stream",
     "text": [
      "SELECTED NUMBERS : [5]\n",
      "[7]\n",
      "[13]\n",
      "[31]\n",
      "[40]\n",
      "[44]\n",
      "[23.333333333333332]\n"
     ]
    }
   ],
   "source": [
    "# 로또 번호 추출기 3 (평균 검사 추가)\n",
    "\n",
    "# 1. 1 ~ 45, Random, 중복X, 6개 숫자 뽑아서 리스트에 저장\n",
    "import random # Random 데이터를 뽑는 기능을 제공하는 모듈\n",
    "\n",
    "numbers = []\n",
    "\n",
    "while True: # 평균 검사의 영향을 받는 반복문\n",
    "    numbers.clear() # 리스트에 포함된 모든 데이터 제거\n",
    "    idx = 0\n",
    "    while idx < 6: # 중복이 몇 번 발생할지 미리 예측할 수 없기 때문에 for -> while로 변경\n",
    "        n = random.randrange(1, 46) # 1 ~ 45(포함) 사이의 Random 정수\n",
    "        for i in range(idx): # 기존에 뽑힌 데이터와 새로 뽑힌 데이터를 비교하는 반복문\n",
    "            if n == numbers[i]: # 중복이 발생한 경우\n",
    "                break\n",
    "        else: # 중복이 발생하지 않은 경우 (위 반복문에서 break가 실행되지 않은 경우)\n",
    "            numbers.append(n) # 리스트에 추가\n",
    "            idx += 1\n",
    "\n",
    "    numbers.sort() # 오름차순 정렬\n",
    "\n",
    "    total = sum(numbers)\n",
    "    mean = total/len(numbers)\n",
    "\n",
    "    if mean >= 20 and mean <= 26:\n",
    "        break\n",
    "\n",
    "print(\"SELECTED NUMBERS : \", end=\"\") # end : 출력 후 마지막에 자동으로 포함되는 문자\n",
    "for n in numbers:\n",
    "    print(\"[{0}]\".format(n), end=\"\")\n",
    "print(\"[{0}]\".format(mean))"
   ]
  },
  {
   "cell_type": "code",
   "execution_count": 42,
   "metadata": {},
   "outputs": [
    {
     "name": "stdout",
     "output_type": "stream",
     "text": [
      "********************\n",
      "*                  *\n",
      "*                  *\n",
      "*                  *\n",
      "*                  *\n",
      "*                  *\n",
      "*                  *\n",
      "*                  *\n",
      "*                  *\n",
      "********************\n"
     ]
    }
   ],
   "source": [
    "# 박스그리기 (20 x 20)\n",
    "for y in range(10):\n",
    "    for x in range(20):\n",
    "        if x == 0 or x == 19 or y == 0 or y == 9:\n",
    "            print(\"*\", end=\"\")\n",
    "        else:\n",
    "            print(\" \", end=\"\")\n",
    "            \n",
    "    print() # 줄바꿈"
   ]
  },
  {
   "cell_type": "code",
   "execution_count": 44,
   "metadata": {},
   "outputs": [
    {
     "name": "stdout",
     "output_type": "stream",
     "text": [
      "1 ~ 100까지의 합 : 5050\n"
     ]
    }
   ],
   "source": [
    "# 1부터 사용자가 입력한 숫자까지의 합 계산\n",
    "number = input(\"합을 계산할 숫자를 입력하세요 : \")\n",
    "number = int(number)\n",
    "# print(number, type(number))\n",
    "total = 0\n",
    "for n in range(1, number + 1):\n",
    "    total = total + n\n",
    "\n",
    "print(\"{0} ~ {1}까지의 합 : {2}\".format(1, number, total))"
   ]
  },
  {
   "cell_type": "code",
   "execution_count": 50,
   "metadata": {},
   "outputs": [
    {
     "name": "stdout",
     "output_type": "stream",
     "text": [
      "1 x 1 =  1  2 x 1 =  2  3 x 1 =  3  4 x 1 =  4  5 x 1 =  5  6 x 1 =  6  7 x 1 =  7  8 x 1 =  8  9 x 1 =  9  \n",
      "1 x 2 =  2  2 x 2 =  4  3 x 2 =  6  4 x 2 =  8  5 x 2 = 10  6 x 2 = 12  7 x 2 = 14  8 x 2 = 16  9 x 2 = 18  \n",
      "1 x 3 =  3  2 x 3 =  6  3 x 3 =  9  4 x 3 = 12  5 x 3 = 15  6 x 3 = 18  7 x 3 = 21  8 x 3 = 24  9 x 3 = 27  \n",
      "1 x 4 =  4  2 x 4 =  8  3 x 4 = 12  4 x 4 = 16  5 x 4 = 20  6 x 4 = 24  7 x 4 = 28  8 x 4 = 32  9 x 4 = 36  \n",
      "1 x 5 =  5  2 x 5 = 10  3 x 5 = 15  4 x 5 = 20  5 x 5 = 25  6 x 5 = 30  7 x 5 = 35  8 x 5 = 40  9 x 5 = 45  \n",
      "1 x 6 =  6  2 x 6 = 12  3 x 6 = 18  4 x 6 = 24  5 x 6 = 30  6 x 6 = 36  7 x 6 = 42  8 x 6 = 48  9 x 6 = 54  \n",
      "1 x 7 =  7  2 x 7 = 14  3 x 7 = 21  4 x 7 = 28  5 x 7 = 35  6 x 7 = 42  7 x 7 = 49  8 x 7 = 56  9 x 7 = 63  \n",
      "1 x 8 =  8  2 x 8 = 16  3 x 8 = 24  4 x 8 = 32  5 x 8 = 40  6 x 8 = 48  7 x 8 = 56  8 x 8 = 64  9 x 8 = 72  \n",
      "1 x 9 =  9  2 x 9 = 18  3 x 9 = 27  4 x 9 = 36  5 x 9 = 45  6 x 9 = 54  7 x 9 = 63  8 x 9 = 72  9 x 9 = 81  \n"
     ]
    }
   ],
   "source": [
    "# 구구단 출력\n",
    "# 1 * 1 = 1   2 * 1 = 2   ... 9 * 1 = 9\n",
    "# 1 * 2 = 2   2 * 2 = 4   ... 9 * 2 = 18\n",
    "# ...\n",
    "# 1 * 9 = 9   2 * 9 = 18  ... 9 * 9 = 81\n",
    "for y in range(1, 10):\n",
    "    for x in range(1, 10):\n",
    "        print(\"{0} x {1} = {2:2d}  \".format(x, y, x * y), end=\"\")\n",
    "    print() # 줄바꿈\n"
   ]
  }
 ],
 "metadata": {
  "interpreter": {
   "hash": "9c5dc79ccd275e4361875addd540f1c9fe94d1fe5a32da65e0af0c955a58bc0b"
  },
  "kernelspec": {
   "display_name": "Python 3.8.12 64-bit ('knitac-env': conda)",
   "language": "python",
   "name": "python3"
  },
  "language_info": {
   "codemirror_mode": {
    "name": "ipython",
    "version": 3
   },
   "file_extension": ".py",
   "mimetype": "text/x-python",
   "name": "python",
   "nbconvert_exporter": "python",
   "pygments_lexer": "ipython3",
   "version": "3.8.12"
  },
  "orig_nbformat": 4
 },
 "nbformat": 4,
 "nbformat_minor": 2
}
