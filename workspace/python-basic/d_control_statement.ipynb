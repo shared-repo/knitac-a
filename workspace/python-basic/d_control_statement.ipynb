{
 "cells": [
  {
   "cell_type": "code",
   "execution_count": 3,
   "metadata": {},
   "outputs": [
    {
     "name": "stdout",
     "output_type": "stream",
     "text": [
      "1 - Got a true expression value\n",
      "100\n",
      "Good bye!\n"
     ]
    }
   ],
   "source": [
    "var1 = 100\n",
    "if var1: # 정수인 경우 0이면 False 아니면 True로 해석\n",
    "    print (\"1 - Got a true expression value\")\n",
    "    print (var1)\n",
    "\n",
    "var2 = 0\n",
    "if var2:\n",
    "    print (\"2 - Got a true expression value\")\n",
    "    print (var2)\n",
    "    \n",
    "print (\"Good bye!\")"
   ]
  },
  {
   "cell_type": "code",
   "execution_count": 6,
   "metadata": {},
   "outputs": [
    {
     "name": "stdout",
     "output_type": "stream",
     "text": [
      "8500.0\n"
     ]
    }
   ],
   "source": [
    "amount = 10000\n",
    "\n",
    "if amount < 1000:\n",
    "    discount = amount * 0.05\n",
    "elif amount < 5000:\n",
    "    discount = amount * 0.1\n",
    "else:\n",
    "    discount = amount * 0.15\n",
    "\n",
    "print( amount - discount )"
   ]
  },
  {
   "cell_type": "code",
   "execution_count": null,
   "metadata": {},
   "outputs": [],
   "source": [
    "pocket = ['paper', 'money', 'cellphone']\n",
    "if 'money' in pocket:\n",
    "    pass # 실행 내용 없음\n",
    "else:\n",
    "    print(\"카드를 꺼내라\")"
   ]
  },
  {
   "cell_type": "code",
   "execution_count": 7,
   "metadata": {},
   "outputs": [
    {
     "name": "stdout",
     "output_type": "stream",
     "text": [
      "장동건\n"
     ]
    }
   ],
   "source": [
    "# 사용자 입력 받기\n",
    "name = input(\"이름을 입력하세요 : \") # input : 사용자로부터 키보드 입력을 받는 명령 ( 입력 값은 항상 문자열 )\n",
    "print(name)"
   ]
  },
  {
   "cell_type": "code",
   "execution_count": 18,
   "metadata": {},
   "outputs": [
    {
     "name": "stdout",
     "output_type": "stream",
     "text": [
      "20 - 20 = 0\n"
     ]
    }
   ],
   "source": [
    "# 계산기 만들기\n",
    "# 1. 숫자 입력\n",
    "# 2. 연산자 입력\n",
    "# 3. 숫자 입력\n",
    "# 4. 입력된 연산자에 따라 계산 선택\n",
    "# 5. 결과 출력\n",
    "\n",
    "number1 = input(\"첫 번째 숫자 : \")\n",
    "# print( type(number1) ) # type : 자료형을 확인하는 명령\n",
    "number1 = int(number1) # number1을 정수형으로 변환\n",
    "\n",
    "op = input(\"연산자 ( +, -, *, /, % ) : \")\n",
    "\n",
    "number2 = input(\"두 번째 숫자 : \")\n",
    "number2 = int(number2) # number2를 정수형으로 변환\n",
    "\n",
    "# print(number1, op, number2) # 테스트 코드\n",
    "valid = True\n",
    "if op == '+':\n",
    "    result = number1 + number2\n",
    "elif op == '-':\n",
    "    result = number1 - number2\n",
    "elif op == '*':\n",
    "    result = number1 * number2\n",
    "elif op == '/':\n",
    "    result = number1 / number2\n",
    "elif op == '%':\n",
    "    result = number1 % number2\n",
    "else:\n",
    "    valid = False\n",
    "    pass\n",
    "\n",
    "if valid:\n",
    "    print( \"{0} {1} {2} = {3}\".format(number1, op, number2, result) )\n",
    "else:\n",
    "    print(\"{0}은 지원하지 않는 연산자입니다.\".format(op))"
   ]
  },
  {
   "cell_type": "code",
   "execution_count": 82,
   "metadata": {},
   "outputs": [
    {
     "name": "stdout",
     "output_type": "stream",
     "text": [
      "[TOTAL : 226][MEAN : 75.33333333333333][GRADE : C]\n"
     ]
    }
   ],
   "source": [
    "# [ 점수 처리기 ]\n",
    "# 1. 0 ~ 100 사이의 세 개의 점수 만들기 ( 난수 발생 )\n",
    "# 2. 총점, 평균 계산\n",
    "# 3. 등급 계산 ( 평균에 따라 A[90 ~ 100], B[80 ~ 89], C[70 ~ 79], D[60 ~ 69], F[0 ~ 59] )\n",
    "# 4. 결과 출력\n",
    "\n",
    "import random # random 모듈 (파일)을 가져오기\n",
    "\n",
    "# print( random.random() ) # 0 ~ 1 사이의 난수 발생\n",
    "score1 = int( random.random() * 51 ) + 50 # 50 ~ 100(포함) 범위의 값 뽑기\n",
    "score2 = int( random.random() * 51 ) + 50 # 50 ~ 100(포함) 범위의 값 뽑기\n",
    "score3 = int( random.random() * 51 ) + 50 # 50 ~ 100(포함) 범위의 값 뽑기\n",
    "\n",
    "# print(score1, score2, score3)\n",
    "total = score1 + score2 + score3\n",
    "mean = total / 3\n",
    "# print(total, mean)\n",
    "valid = True\n",
    "if mean >= 90 and mean <= 100:\n",
    "    grade = 'A'\n",
    "elif mean >= 80 and mean < 90:\n",
    "    grade = 'B'\n",
    "elif mean >= 70 and mean < 80:\n",
    "    grade = 'C'\n",
    "elif mean >= 60 and mean < 70:\n",
    "    grade = 'D'\n",
    "elif mean >= 0 and mean < 60:\n",
    "    grade = 'F'\n",
    "else:\n",
    "    valid = False\n",
    "if valid:\n",
    "    print(\"[TOTAL : {0}][MEAN : {1}][GRADE : {2}]\".format(total, mean, grade))\n",
    "else:\n",
    "    print(\"데이터에 문제가 있습니다.\")"
   ]
  },
  {
   "cell_type": "code",
   "execution_count": null,
   "metadata": {},
   "outputs": [],
   "source": []
  },
  {
   "cell_type": "code",
   "execution_count": null,
   "metadata": {},
   "outputs": [],
   "source": []
  }
 ],
 "metadata": {
  "interpreter": {
   "hash": "9c5dc79ccd275e4361875addd540f1c9fe94d1fe5a32da65e0af0c955a58bc0b"
  },
  "kernelspec": {
   "display_name": "Python 3.8.12 64-bit ('knitac-env': conda)",
   "language": "python",
   "name": "python3"
  },
  "language_info": {
   "codemirror_mode": {
    "name": "ipython",
    "version": 3
   },
   "file_extension": ".py",
   "mimetype": "text/x-python",
   "name": "python",
   "nbconvert_exporter": "python",
   "pygments_lexer": "ipython3",
   "version": "3.8.12"
  },
  "orig_nbformat": 4
 },
 "nbformat": 4,
 "nbformat_minor": 2
}
