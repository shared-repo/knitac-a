{
 "cells": [
  {
   "cell_type": "code",
   "execution_count": 4,
   "metadata": {},
   "outputs": [],
   "source": [
    "# 함수 정의 (만들기)\n",
    "def hello():\n",
    "    print(\"hello, function !!!!!\")\n",
    "    print(\"이 코드는 함수가 호출될 때 실행됩니다.\")\n",
    "    print(\"확인해 주세요\")"
   ]
  },
  {
   "cell_type": "code",
   "execution_count": 6,
   "metadata": {},
   "outputs": [
    {
     "name": "stdout",
     "output_type": "stream",
     "text": [
      "hello, function !!!!!\n",
      "이 코드는 함수가 호출될 때 실행됩니다.\n",
      "확인해 주세요\n",
      "hello, function !!!!!\n",
      "이 코드는 함수가 호출될 때 실행됩니다.\n",
      "확인해 주세요\n"
     ]
    }
   ],
   "source": [
    "# 함수 호출 (사용, 실행)\n",
    "hello()\n",
    "hello()"
   ]
  },
  {
   "cell_type": "code",
   "execution_count": 7,
   "metadata": {},
   "outputs": [],
   "source": [
    "# 전달인자 있는 함수 만들기\n",
    "def sayHelloTo(name):\n",
    "    print(\"Hello, {0}\".format(name))"
   ]
  },
  {
   "cell_type": "code",
   "execution_count": 8,
   "metadata": {},
   "outputs": [
    {
     "name": "stdout",
     "output_type": "stream",
     "text": [
      "Hello, 장동건\n",
      "Hello, 송강호\n"
     ]
    }
   ],
   "source": [
    "# 전달인자 있는 함수 호출\n",
    "sayHelloTo(\"장동건\")\n",
    "sayHelloTo(\"송강호\")"
   ]
  },
  {
   "cell_type": "code",
   "execution_count": 9,
   "metadata": {},
   "outputs": [],
   "source": [
    "# 전달인자 있는 함수 만들기 2\n",
    "def mySum(number1, number2):\n",
    "    result = number1 + number2\n",
    "    print(\"{0} + {1} = {2}\".format(number1, number2, result))"
   ]
  },
  {
   "cell_type": "code",
   "execution_count": 10,
   "metadata": {},
   "outputs": [
    {
     "name": "stdout",
     "output_type": "stream",
     "text": [
      "10 + 20 = 30\n",
      "100 + 50 = 150\n"
     ]
    }
   ],
   "source": [
    "# 전달인자 있는 함수 호출 2\n",
    "mySum(10, 20)\n",
    "mySum(100, 50)"
   ]
  }
 ],
 "metadata": {
  "interpreter": {
   "hash": "9c5dc79ccd275e4361875addd540f1c9fe94d1fe5a32da65e0af0c955a58bc0b"
  },
  "kernelspec": {
   "display_name": "Python 3.8.12 ('knitac-env')",
   "language": "python",
   "name": "python3"
  },
  "language_info": {
   "codemirror_mode": {
    "name": "ipython",
    "version": 3
   },
   "file_extension": ".py",
   "mimetype": "text/x-python",
   "name": "python",
   "nbconvert_exporter": "python",
   "pygments_lexer": "ipython3",
   "version": "3.8.12"
  },
  "orig_nbformat": 4
 },
 "nbformat": 4,
 "nbformat_minor": 2
}
