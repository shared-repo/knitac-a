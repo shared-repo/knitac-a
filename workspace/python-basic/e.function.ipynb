{
 "cells": [
  {
   "cell_type": "code",
   "execution_count": 4,
   "metadata": {},
   "outputs": [],
   "source": [
    "# 함수 정의 (만들기)\n",
    "def hello():\n",
    "    print(\"hello, function !!!!!\")\n",
    "    print(\"이 코드는 함수가 호출될 때 실행됩니다.\")\n",
    "    print(\"확인해 주세요\")"
   ]
  },
  {
   "cell_type": "code",
   "execution_count": 6,
   "metadata": {},
   "outputs": [
    {
     "name": "stdout",
     "output_type": "stream",
     "text": [
      "hello, function !!!!!\n",
      "이 코드는 함수가 호출될 때 실행됩니다.\n",
      "확인해 주세요\n",
      "hello, function !!!!!\n",
      "이 코드는 함수가 호출될 때 실행됩니다.\n",
      "확인해 주세요\n"
     ]
    }
   ],
   "source": [
    "# 함수 호출 (사용, 실행)\n",
    "hello()\n",
    "hello()"
   ]
  },
  {
   "cell_type": "code",
   "execution_count": 7,
   "metadata": {},
   "outputs": [],
   "source": [
    "# 전달인자 있는 함수 만들기\n",
    "def sayHelloTo(name):\n",
    "    print(\"Hello, {0}\".format(name))"
   ]
  },
  {
   "cell_type": "code",
   "execution_count": 8,
   "metadata": {},
   "outputs": [
    {
     "name": "stdout",
     "output_type": "stream",
     "text": [
      "Hello, 장동건\n",
      "Hello, 송강호\n"
     ]
    }
   ],
   "source": [
    "# 전달인자 있는 함수 호출\n",
    "sayHelloTo(\"장동건\")\n",
    "sayHelloTo(\"송강호\")"
   ]
  },
  {
   "cell_type": "code",
   "execution_count": 9,
   "metadata": {},
   "outputs": [],
   "source": [
    "# 전달인자 있는 함수 만들기 2\n",
    "def mySum(number1, number2):\n",
    "    result = number1 + number2\n",
    "    print(\"{0} + {1} = {2}\".format(number1, number2, result))"
   ]
  },
  {
   "cell_type": "code",
   "execution_count": 10,
   "metadata": {},
   "outputs": [
    {
     "name": "stdout",
     "output_type": "stream",
     "text": [
      "10 + 20 = 30\n",
      "100 + 50 = 150\n"
     ]
    }
   ],
   "source": [
    "# 전달인자 있는 함수 호출 2\n",
    "mySum(10, 20)\n",
    "mySum(100, 50)"
   ]
  },
  {
   "cell_type": "code",
   "execution_count": 11,
   "metadata": {},
   "outputs": [],
   "source": [
    "# 반환 값이 있는 함수 만들기\n",
    "def mySum2(number1, number2):\n",
    "    result = number1 + number2\n",
    "    return result # 함수를 즉시 종료하고 호출한 곳으로 값을 반환"
   ]
  },
  {
   "cell_type": "code",
   "execution_count": 13,
   "metadata": {},
   "outputs": [
    {
     "name": "stdout",
     "output_type": "stream",
     "text": [
      "10 + 20 = 30\n"
     ]
    }
   ],
   "source": [
    "# 반환 값이 있는 함수 사용\n",
    "result = mySum2(10, 20)\n",
    "print(\"{0} + {1} = {2}\".format(10, 20, result))"
   ]
  },
  {
   "cell_type": "code",
   "execution_count": 15,
   "metadata": {},
   "outputs": [
    {
     "name": "stdout",
     "output_type": "stream",
     "text": [
      "test\n"
     ]
    }
   ],
   "source": [
    "# mySum2(10) # 오류 : 전달인자 사용은 필수 \n",
    "mySum2(10, 20) # 정상 : 반환 값 수신은 선택\n",
    "print('test')"
   ]
  },
  {
   "cell_type": "code",
   "execution_count": null,
   "metadata": {},
   "outputs": [],
   "source": [
    "a = 10\n",
    "b = 20\n",
    "c = 30\n",
    "d = [a, b, c] # 리스트는 여러 개의 데이터를 하나의 단위로 관리"
   ]
  },
  {
   "cell_type": "code",
   "execution_count": 18,
   "metadata": {},
   "outputs": [],
   "source": [
    "# 다중 값 반환 함수\n",
    "def sumAndMul(n1, n2):\n",
    "    s = n1 + n2\n",
    "    m = n1 * n2\n",
    "    # return (s, m) # return은 단일 값만 처리하기 때문에 여러 개의 값인 경우 리스트나 튜플로 묶어서 반환\n",
    "    return s, m # 자동으로 튜플로 변환해서 반환"
   ]
  },
  {
   "cell_type": "code",
   "execution_count": 20,
   "metadata": {},
   "outputs": [
    {
     "name": "stdout",
     "output_type": "stream",
     "text": [
      "(30, 200)\n",
      "30 200\n"
     ]
    }
   ],
   "source": [
    "result = sumAndMul(10, 20)\n",
    "print(result)\n",
    "s, m = sumAndMul(10, 20) # 튜플 또는 리스트 반환 값은 분할해서 받을 수 있습니다\n",
    "print(s, m)"
   ]
  },
  {
   "cell_type": "code",
   "execution_count": 23,
   "metadata": {},
   "outputs": [
    {
     "name": "stdout",
     "output_type": "stream",
     "text": [
      "20 30\n",
      "10\n"
     ]
    }
   ],
   "source": [
    "a1 = 10\n",
    "def f():\n",
    "    a1 = 20 # 이 a1은 함수 밖에 선언된 a1과 다른 변수\n",
    "    a2 = 30 # 함수 안에서 만든 변수는 함수 내부에서만 사용 가능\n",
    "    print(a1, a2) # 함수 내분의 a1과 a2를 사용\n",
    "\n",
    "f()\n",
    "\n",
    "print(a1) # f함수 밖의 a1을 사용\n",
    "# print(a2) # 오류 : 영역 밖에서 변수 사용"
   ]
  },
  {
   "cell_type": "code",
   "execution_count": 26,
   "metadata": {},
   "outputs": [],
   "source": [
    "# 연습 1. 계산기 함수 만들기\n",
    "def calculate(number1, number2, op):\n",
    "    if op == '+':\n",
    "        result = number1 + number2\n",
    "    elif op == '-':\n",
    "        result = number1 - number2\n",
    "    elif op == '*':\n",
    "        result = number1 * number2\n",
    "    elif op == '/':\n",
    "        result = number1 / number2\n",
    "    elif op == '%':\n",
    "        result = number1 % number2\n",
    "    else:\n",
    "        return None\n",
    "    \n",
    "    return result"
   ]
  },
  {
   "cell_type": "code",
   "execution_count": 31,
   "metadata": {},
   "outputs": [
    {
     "name": "stdout",
     "output_type": "stream",
     "text": [
      "10 * 20 = 200\n"
     ]
    }
   ],
   "source": [
    "# 연습 1. 계산기 함수 사용\n",
    "result = calculate(10, 20, '*')\n",
    "if result:\n",
    "    print(\"{0} {1} {2} = {3}\".format(10, \"*\", 20, result))\n",
    "else:\n",
    "    print(\"지원하지 않는 연산자입니다.\")"
   ]
  },
  {
   "cell_type": "code",
   "execution_count": 32,
   "metadata": {},
   "outputs": [],
   "source": [
    "# 점수 계산 함수 만들기\n",
    "# 전달인자 : 점수 3개\n",
    "# 반환값 : total, mean, grade\n",
    "def score(score1, score2, score3):\n",
    "    total = score1 + score2 + score3\n",
    "    mean = total / 3\n",
    "\n",
    "    if mean >= 90 and mean <= 100:\n",
    "        grade = 'A'\n",
    "    elif mean >= 80 and mean < 90:\n",
    "        grade = 'B'\n",
    "    elif mean >= 70 and mean < 80:\n",
    "        grade = 'C'\n",
    "    elif mean >= 60 and mean < 70:\n",
    "        grade = 'D'\n",
    "    elif mean >= 0 and mean < 60:\n",
    "        grade = 'F'\n",
    "    else:\n",
    "        return None\n",
    "\n",
    "    return total, mean, grade "
   ]
  },
  {
   "cell_type": "code",
   "execution_count": 34,
   "metadata": {},
   "outputs": [
    {
     "name": "stdout",
     "output_type": "stream",
     "text": [
      "[TOTAL : 246][MEAN : 82.0][GRADE : B]\n"
     ]
    }
   ],
   "source": [
    "# 위 함수를 사용하는 코드 만들기\n",
    "# total, mean, grade = score(97, 84, 88)\n",
    "result = score(74, 84, 88)\n",
    "if result:\n",
    "    print(\"[TOTAL : {0}][MEAN : {1}][GRADE : {2}]\".format(result[0], result[1], result[2]))\n",
    "else:\n",
    "    print(\"데이터에 문제가 있습니다.\")"
   ]
  },
  {
   "cell_type": "code",
   "execution_count": 38,
   "metadata": {},
   "outputs": [],
   "source": [
    "# 로또 번호 출력 함수 만들기\n",
    "# 이름 : showNumbers\n",
    "# 전달인자 : list or tuple 형식\n",
    "# 반환값 : 없음\n",
    "def showNumbers(numbers):\n",
    "    \"\"\"\n",
    "    리스트 또는 튜플 형식의 목록 데이터를 출력하는 함수\n",
    "    전달인자 : list or tuple 형식\n",
    "    반환값 : 없음\n",
    "    \"\"\"\n",
    "    print(\"SELECTED NUMBERS : \", end=\"\") # end : 출력 후 마지막에 자동으로 포함되는 문자\n",
    "    for n in numbers:\n",
    "        print(\"[{0}]\".format(n), end=\"\")\n",
    "    mean = sum(numbers)/len(numbers)\n",
    "    print(\"[{0}]\".format(mean))\n"
   ]
  },
  {
   "cell_type": "code",
   "execution_count": 37,
   "metadata": {},
   "outputs": [
    {
     "name": "stdout",
     "output_type": "stream",
     "text": [
      "SELECTED NUMBERS : [19][27][34][42][45][6][28.833333333333332]\n"
     ]
    }
   ],
   "source": [
    "# 로또 번호 출력 함수 테스트\n",
    "numbers = [19, 27, 34, 42, 45, 6]\n",
    "showNumbers(numbers)"
   ]
  },
  {
   "cell_type": "code",
   "execution_count": 42,
   "metadata": {},
   "outputs": [],
   "source": [
    "# 평균 검사 함수 만들기\n",
    "# 전달인자에 포함된 데이터의 평균이 20 ~ 26이면 True 아니면 False\n",
    "# 이름 : checkMean\n",
    "# 전달인자 : list or tuple 형식\n",
    "# 반환값 : True or False\n",
    "def checkMean(numbers):\n",
    "    total = sum(numbers)\n",
    "    mean = total/len(numbers)\n",
    "\n",
    "    # if mean >= 20 and mean <= 26:\n",
    "    #     return True\n",
    "    # else:\n",
    "    #     return False\n",
    "    return mean >= 20 and mean <= 26\n"
   ]
  },
  {
   "cell_type": "code",
   "execution_count": 43,
   "metadata": {},
   "outputs": [
    {
     "name": "stdout",
     "output_type": "stream",
     "text": [
      "평균 검사 성공\n"
     ]
    }
   ],
   "source": [
    "# 평균 검사 함수 사용 코드\n",
    "valid = checkMean([10, 20, 30, 40, 25, 26])\n",
    "if valid:\n",
    "    print(\"평균 검사 성공\")\n",
    "else:\n",
    "    print('평균 검사 실패')"
   ]
  },
  {
   "cell_type": "code",
   "execution_count": 44,
   "metadata": {},
   "outputs": [],
   "source": [
    "# 로또 기본 번호 추출 함수 만들기\n",
    "# 1 ~ 45, 중복되지 않는, Random 숫자 6개 반환\n",
    "# 이름 : selectBasicNumbers\n",
    "# 전달인자 : 없음\n",
    "# 반환값 : 6개의 숫자를 저장한 리스트\n",
    "def selectBasicNumbers():\n",
    "    import random\n",
    "\n",
    "    numbers = []\n",
    "    idx = 0\n",
    "    while idx < 6: # 중복이 몇 번 발생할지 미리 예측할 수 없기 때문에 for -> while로 변경\n",
    "        n = random.randrange(1, 46) # 1 ~ 45(포함) 사이의 Random 정수\n",
    "        for i in range(idx): # 기존에 뽑힌 데이터와 새로 뽑힌 데이터를 비교하는 반복문\n",
    "            if n == numbers[i]: # 중복이 발생한 경우\n",
    "                break\n",
    "        else: # 중복이 발생하지 않은 경우 (위 반복문에서 break가 실행되지 않은 경우)\n",
    "            numbers.append(n) # 리스트에 추가\n",
    "            idx += 1\n",
    "\n",
    "    numbers.sort() # 오름차순 정렬\n",
    "\n",
    "    return numbers"
   ]
  },
  {
   "cell_type": "code",
   "execution_count": 48,
   "metadata": {},
   "outputs": [
    {
     "name": "stdout",
     "output_type": "stream",
     "text": [
      "SELECTED NUMBERS : [18][23][26][34][41][44][31.0]\n"
     ]
    }
   ],
   "source": [
    "# 로또 기본 번호 추출 함수 테스트\n",
    "numbers = selectBasicNumbers()\n",
    "showNumbers(numbers)"
   ]
  },
  {
   "cell_type": "code",
   "execution_count": 55,
   "metadata": {},
   "outputs": [
    {
     "name": "stdout",
     "output_type": "stream",
     "text": [
      "SELECTED NUMBERS : [2][8][16][18][35][41][20.0]\n"
     ]
    }
   ],
   "source": [
    "# 함수를 사용해서 로또 번호 추출기 구현\n",
    "\n",
    "while True: # 평균 검사의 영향을 받는 반복문\n",
    "    numbers = selectBasicNumbers()\n",
    "\n",
    "    valid = checkMean(numbers)\n",
    "    if valid: # valid가 True이면\n",
    "        break\n",
    "\n",
    "showNumbers(numbers)"
   ]
  },
  {
   "cell_type": "code",
   "execution_count": 56,
   "metadata": {},
   "outputs": [],
   "source": [
    "# 박스 그리기 함수 만들기\n",
    "# 이름 : drawBox\n",
    "# 전달인자 : width, height, ch (경계선 문자)\n",
    "# 반환값 : 없음\n",
    "def drawBox(width, height, ch):\n",
    "    for y in range(height):\n",
    "        for x in range(width):\n",
    "            if x == 0 or x == width - 1 or y == 0 or y == height - 1:\n",
    "                print(ch, end=\"\")\n",
    "            else:\n",
    "                print(\" \", end=\"\")\n",
    "                \n",
    "        print() # 줄바꿈    "
   ]
  },
  {
   "cell_type": "code",
   "execution_count": 59,
   "metadata": {},
   "outputs": [
    {
     "name": "stdout",
     "output_type": "stream",
     "text": [
      "$$$$$$$$$$$$$$$$$$$$$$$$$$$$$$$$$$$$$$$$\n",
      "$                                      $\n",
      "$                                      $\n",
      "$                                      $\n",
      "$                                      $\n",
      "$                                      $\n",
      "$                                      $\n",
      "$                                      $\n",
      "$                                      $\n",
      "$$$$$$$$$$$$$$$$$$$$$$$$$$$$$$$$$$$$$$$$\n"
     ]
    }
   ],
   "source": [
    "# 박스 그리기 함수 테스트 코드\n",
    "drawBox(40, 10, '$')"
   ]
  },
  {
   "cell_type": "code",
   "execution_count": 60,
   "metadata": {},
   "outputs": [
    {
     "ename": "TypeError",
     "evalue": "f() missing 1 required positional argument: 'b'",
     "output_type": "error",
     "traceback": [
      "\u001b[1;31m---------------------------------------------------------------------------\u001b[0m",
      "\u001b[1;31mTypeError\u001b[0m                                 Traceback (most recent call last)",
      "\u001b[1;32md:\\python-web\\knitac-a\\workspace\\python-basic\\e.function.ipynb Cell 27'\u001b[0m in \u001b[0;36m<module>\u001b[1;34m\u001b[0m\n\u001b[0;32m      <a href='vscode-notebook-cell:/d%3A/python-web/knitac-a/workspace/python-basic/e.function.ipynb#ch0000026?line=5'>6</a>\u001b[0m f(\u001b[39m'\u001b[39m\u001b[39mx\u001b[39m\u001b[39m'\u001b[39m, \u001b[39m'\u001b[39m\u001b[39my\u001b[39m\u001b[39m'\u001b[39m)\n\u001b[0;32m      <a href='vscode-notebook-cell:/d%3A/python-web/knitac-a/workspace/python-basic/e.function.ipynb#ch0000026?line=6'>7</a>\u001b[0m f(\u001b[39m'\u001b[39m\u001b[39ms\u001b[39m\u001b[39m'\u001b[39m, \u001b[39m10\u001b[39m)\n\u001b[1;32m----> <a href='vscode-notebook-cell:/d%3A/python-web/knitac-a/workspace/python-basic/e.function.ipynb#ch0000026?line=7'>8</a>\u001b[0m f(\u001b[39m100\u001b[39;49m)\n",
      "\u001b[1;31mTypeError\u001b[0m: f() missing 1 required positional argument: 'b'"
     ]
    }
   ],
   "source": [
    "# 전달인자 일치 테스트\n",
    "def f(a, b):\n",
    "    pass\n",
    "\n",
    "f(1, 2)\n",
    "f('x', 'y')\n",
    "f('s', 10)\n",
    "f(100) # 오류 : 전달인자 갯수 불일치"
   ]
  },
  {
   "cell_type": "code",
   "execution_count": 66,
   "metadata": {},
   "outputs": [],
   "source": [
    "# 함수 전달인자의 기본 값 활용\n",
    "def say_myself(name, old, man=True): \n",
    "    print(\"나의 이름은 %s 입니다.\" % name) \n",
    "    print(\"나이는 %d살입니다.\" % old) \n",
    "    if man: \n",
    "        print(\"남자입니다.\")\n",
    "    else: \n",
    "        print(\"여자입니다.\")"
   ]
  },
  {
   "cell_type": "code",
   "execution_count": 67,
   "metadata": {},
   "outputs": [
    {
     "name": "stdout",
     "output_type": "stream",
     "text": [
      "나의 이름은 조이현 입니다.\n",
      "나이는 22살입니다.\n",
      "여자입니다.\n",
      "********************\n",
      "나의 이름은 윤찬영 입니다.\n",
      "나이는 20살입니다.\n",
      "남자입니다.\n"
     ]
    }
   ],
   "source": [
    "# 함수 전달인자의 기본 값 활용 호출 코드\n",
    "say_myself('조이현', 22, False)\n",
    "print(\"*\" * 20)\n",
    "say_myself(\"윤찬영\", 20)"
   ]
  },
  {
   "cell_type": "code",
   "execution_count": 68,
   "metadata": {},
   "outputs": [
    {
     "name": "stdout",
     "output_type": "stream",
     "text": [
      "나의 이름은 박지후 입니다.\n",
      "나이는 18살입니다.\n",
      "여자입니다.\n",
      "나의 이름은 이유미 입니다.\n",
      "나이는 27살입니다.\n",
      "여자입니다.\n"
     ]
    }
   ],
   "source": [
    "# 전달인자를 이름을 지정해서 사용하는 호출 방식\n",
    "say_myself(name='박지후', old=18, man=False)\n",
    "say_myself('이유미', 27, man=False)\n",
    "say_myself('이유미', age=27, man=False) #오류 : 전달인자 이름을 지정하기 시작하면 끝까지 이름을 지정해야 합니다."
   ]
  },
  {
   "cell_type": "code",
   "execution_count": 70,
   "metadata": {},
   "outputs": [
    {
     "name": "stdout",
     "output_type": "stream",
     "text": [
      "55\n",
      "15\n"
     ]
    }
   ],
   "source": [
    "# 전달인자의 갯수를 미리 지정하지 않고 호출할 때 사용한 갯수 만큼 전달인자 받는 방식 1\n",
    "# def sum_two(a, b):\n",
    "#     pass\n",
    "# def sum_three(a, b, c):\n",
    "#     pass\n",
    "# def sum_four(a, b, c, d):\n",
    "#     pass\n",
    "def sum_many(*args): # 갯수와 상관 없이 전달인자 수신 가능 ( 형식은 리스트 )\n",
    "    sum = 0\n",
    "    for i in args: \n",
    "        sum = sum + i \n",
    "    return sum\n",
    "\n",
    "print( sum_many(1, 2, 3, 4, 5, 6, 7, 8, 9, 10) )\n",
    "print( sum_many(1, 2, 3, 4, 5) )"
   ]
  },
  {
   "cell_type": "code",
   "execution_count": 73,
   "metadata": {},
   "outputs": [
    {
     "name": "stdout",
     "output_type": "stream",
     "text": [
      "('a', 100) ('b', 200) ('c', 300) ('d', 400) ('e', 500) \n",
      "('a', 100) ('d', 400) ('e', 500) \n"
     ]
    }
   ],
   "source": [
    "# 전달인자의 갯수를 미리 지정하지 않고 호출할 때 사용한 갯수 만큼 전달인자 받는 방식 2\n",
    "def var_args_func(**dict_data): # 개별 전달인자를 딕셔너리로 만들어서 반환\n",
    "    for key, item in dict_data.items():\n",
    "        print( (key, item), end=' ' )\n",
    "    print()\n",
    "\n",
    "var_args_func(a = 100, b = 200, c = 300, d = 400, e = 500)\n",
    "var_args_func(a = 100, d = 400, e = 500)"
   ]
  },
  {
   "cell_type": "code",
   "execution_count": 75,
   "metadata": {},
   "outputs": [
    {
     "name": "stdout",
     "output_type": "stream",
     "text": [
      "('a', 100) ('b', 200) ('c', 300) ('d', 400) ('e', 500) \n"
     ]
    }
   ],
   "source": [
    "# 전달인자의 갯수를 미리 지정하지 않고 호출할 때 사용한 갯수 만큼 전달인자 받는 방식에 딕셔너리를 사용하는 경우\n",
    "data = { 'a' : 100, 'b' : 200, 'c' : 300, 'd' : 400, 'e' : 500 }\n",
    "# var_args_func(data) # 오류 : 전달인자는 반드시 key=value 목록으로 사용해야 합니다.\n",
    "var_args_func(**data) # **data : 호출구문의 전달인자에 **은 딕셔너리를 풀어서 key=value의 목록으로 만드는 구문\n",
    "# var_args_func(**data) ==> var_args_func(a = 100, b = 200, c = 300, d = 400, e = 500)"
   ]
  }
 ],
 "metadata": {
  "interpreter": {
   "hash": "9c5dc79ccd275e4361875addd540f1c9fe94d1fe5a32da65e0af0c955a58bc0b"
  },
  "kernelspec": {
   "display_name": "Python 3.8.12 ('knitac-env')",
   "language": "python",
   "name": "python3"
  },
  "language_info": {
   "codemirror_mode": {
    "name": "ipython",
    "version": 3
   },
   "file_extension": ".py",
   "mimetype": "text/x-python",
   "name": "python",
   "nbconvert_exporter": "python",
   "pygments_lexer": "ipython3",
   "version": "3.8.12"
  },
  "orig_nbformat": 4
 },
 "nbformat": 4,
 "nbformat_minor": 2
}
