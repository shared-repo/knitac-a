{
 "cells": [
  {
   "cell_type": "code",
   "execution_count": 1,
   "metadata": {},
   "outputs": [],
   "source": [
    "import re"
   ]
  },
  {
   "cell_type": "code",
   "execution_count": 7,
   "metadata": {},
   "outputs": [
    {
     "name": "stdout",
     "output_type": "stream",
     "text": [
      "<re.Match object; span=(0, 4), match='35th'>\n",
      "None\n",
      "None\n",
      "<re.Match object; span=(0, 4), match='35th'>\n",
      "None\n",
      "None\n",
      "<re.Match object; span=(3, 7), match='35th'>\n"
     ]
    }
   ],
   "source": [
    "print( re.search(\"\\d+th\", \"35th\") ) # \\d : 0 ~ 9\n",
    "print( re.search(\"\\d+th\", \"35t\") )\n",
    "print( re.search(\"\\d+th\", \"abcth\") )\n",
    "\n",
    "print( re.search(\"[0-9]+th\", \"35th\") ) # [0-9] : 0 ~ 9\n",
    "print( re.search(\"[0-9]+th\", \"35t\") )\n",
    "print( re.search(\"[0-9]+th\", \"abcth\") )\n",
    "\n",
    "print( re.search(\"[0-9]+th\", \"abc35th\") ) # 패턴이 어느 곳에 있어도 찾습니다."
   ]
  },
  {
   "cell_type": "code",
   "execution_count": 6,
   "metadata": {},
   "outputs": [
    {
     "name": "stdout",
     "output_type": "stream",
     "text": [
      "<re.Match object; span=(0, 4), match='35th'>\n",
      "None\n",
      "None\n",
      "<re.Match object; span=(0, 4), match='35th'>\n",
      "None\n",
      "None\n",
      "None\n"
     ]
    }
   ],
   "source": [
    "print( re.match(\"\\d+th\", \"35th\") ) # \\d : 0 ~ 9\n",
    "print( re.match(\"\\d+th\", \"35t\") )\n",
    "print( re.match(\"\\d+th\", \"abcth\") )\n",
    "\n",
    "print( re.match(\"[0-9]+th\", \"35th\") ) # [0-9] : 0 ~ 9\n",
    "print( re.match(\"[0-9]+th\", \"35t\") )\n",
    "print( re.match(\"[0-9]+th\", \"abcth\") )\n",
    "\n",
    "print( re.match(\"[0-9]+th\", \"abc35th\") ) # 패턴이 처음에 발견되어야 합니다."
   ]
  },
  {
   "cell_type": "code",
   "execution_count": 11,
   "metadata": {},
   "outputs": [
    {
     "name": "stdout",
     "output_type": "stream",
     "text": [
      "['apple orange', 'banana mango']\n",
      "['apple', 'orange:banana', 'mango']\n",
      "['apple', 'orange', 'banana', 'mango']\n"
     ]
    }
   ],
   "source": [
    "print( re.split(\":\", \"apple orange:banana mango\") )\n",
    "print( re.split(\" \", \"apple orange:banana mango\") )\n",
    "print( re.split(\"[: ]\", \"apple orange:banana mango\") )"
   ]
  },
  {
   "cell_type": "code",
   "execution_count": 16,
   "metadata": {},
   "outputs": [
    {
     "name": "stdout",
     "output_type": "stream",
     "text": [
      "['a', 'a']\n",
      "[]\n",
      "['한', '글']\n",
      "['1', '5', '7', '3', '6', '4']\n"
     ]
    }
   ],
   "source": [
    "print( re.findall(\"a\", \"aba\") )\n",
    "print( re.findall(\"a\", \"cbc\") )\n",
    "print( re.findall(\"[ㄱ-힣]\", \"한test글\") )\n",
    "print( re.findall(\"\\d\", \"1한57test3글64\") )"
   ]
  },
  {
   "cell_type": "code",
   "execution_count": 21,
   "metadata": {},
   "outputs": [
    {
     "name": "stdout",
     "output_type": "stream",
     "text": [
      "<callable_iterator object at 0x000001E4473E9B80>\n",
      "<re.Match object; span=(0, 1), match='a'>\n",
      "a 0\n",
      "<re.Match object; span=(3, 4), match='a'>\n",
      "a 3\n",
      "<re.Match object; span=(4, 5), match='x'>\n",
      "x 4\n",
      "<re.Match object; span=(6, 7), match='z'>\n",
      "z 6\n"
     ]
    }
   ],
   "source": [
    "result = re.finditer(\"[axz]\", \"abcaxyz\")\n",
    "print(result)\n",
    "for s in result:\n",
    "    print(s)\n",
    "    print(s.group(), s.start())"
   ]
  },
  {
   "cell_type": "code",
   "execution_count": 27,
   "metadata": {},
   "outputs": [
    {
     "name": "stdout",
     "output_type": "stream",
     "text": [
      "apple, banana, orange, tomato, pineapple, mango\n",
      "('apple, banana, orange, tomato, pineapple, mango', 5)\n"
     ]
    }
   ],
   "source": [
    "# re.sub(\"패턴\", \"변경할문자열\", \"원본문자열\") \n",
    "print( re.sub(\"[:|,\\s]\", \", \", \"apple:banana orange|tomato pineapple mango\") )\n",
    "print( re.subn(\"[:|,\\s]\", \", \", \"apple:banana orange|tomato pineapple mango\") )"
   ]
  },
  {
   "cell_type": "code",
   "execution_count": 28,
   "metadata": {},
   "outputs": [
    {
     "name": "stdout",
     "output_type": "stream",
     "text": [
      "apple, banana, orange, tomato, pineapple, mango\n",
      "('apple, banana, orange, tomato, pineapple, mango', 5)\n"
     ]
    }
   ],
   "source": [
    "rec = re.compile(\"[:|,\\s]\")\n",
    "print( rec.sub(\", \", \"apple:banana orange|tomato pineapple mango\") )\n",
    "print( rec.subn(\", \", \"apple:banana orange|tomato pineapple mango\") )"
   ]
  },
  {
   "cell_type": "code",
   "execution_count": null,
   "metadata": {},
   "outputs": [],
   "source": [
    "10 + 5\n",
    "\n",
    "a+"
   ]
  }
 ],
 "metadata": {
  "interpreter": {
   "hash": "9c5dc79ccd275e4361875addd540f1c9fe94d1fe5a32da65e0af0c955a58bc0b"
  },
  "kernelspec": {
   "display_name": "Python 3.8.12 ('knitac-env')",
   "language": "python",
   "name": "python3"
  },
  "language_info": {
   "codemirror_mode": {
    "name": "ipython",
    "version": 3
   },
   "file_extension": ".py",
   "mimetype": "text/x-python",
   "name": "python",
   "nbconvert_exporter": "python",
   "pygments_lexer": "ipython3",
   "version": "3.8.12"
  },
  "orig_nbformat": 4
 },
 "nbformat": 4,
 "nbformat_minor": 2
}
