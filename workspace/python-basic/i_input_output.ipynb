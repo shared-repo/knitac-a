{
 "cells": [
  {
   "cell_type": "code",
   "execution_count": 2,
   "metadata": {},
   "outputs": [
    {
     "name": "stdout",
     "output_type": "stream",
     "text": [
      "1\n",
      "nice to meet you !!!!!\n"
     ]
    }
   ],
   "source": [
    "message = input()\n",
    "print(message)\n",
    "\n",
    "message = input(\"메시지를 입력하세요 : \")\n",
    "print(message)"
   ]
  },
  {
   "cell_type": "code",
   "execution_count": 8,
   "metadata": {},
   "outputs": [
    {
     "name": "stdout",
     "output_type": "stream",
     "text": [
      "lifeistoo short\n",
      "lifeistoo short\n",
      "life is too short\n",
      "life---is---too short\n"
     ]
    }
   ],
   "source": [
    "print(\"life\" \"is\" \"too short\")\n",
    "print(\"life\"+\"is\"+\"too short\")\n",
    "\n",
    "print(\"life\", \"is\", \"too short\")\n",
    "print(\"life\", \"is\", \"too short\", sep=\"---\")"
   ]
  },
  {
   "cell_type": "code",
   "execution_count": 10,
   "metadata": {},
   "outputs": [
    {
     "name": "stdout",
     "output_type": "stream",
     "text": [
      "1 2 3 4 5 6 7 8 9 10 "
     ]
    }
   ],
   "source": [
    "for i in range(1, 11):\n",
    "    # print(i) # 자동 줄바꿈 ( end=\"\\n\" )\n",
    "    print(i, end=\" \") # end : 내용 출력후 마지막에 자동으로 출력되는 문자열"
   ]
  },
  {
   "cell_type": "code",
   "execution_count": 11,
   "metadata": {},
   "outputs": [],
   "source": [
    "# print 함수의 출력 대상을 모니터에서 파일로 변경\n",
    "\n",
    "f = open('test.txt', 'w')\n",
    "print('welcome', 'to', 'python', 'world', file=f)\n",
    "f.close()"
   ]
  },
  {
   "cell_type": "code",
   "execution_count": 15,
   "metadata": {},
   "outputs": [
    {
     "name": "stdout",
     "output_type": "stream",
     "text": [
      "1. apple is red\n",
      "2. apple is red\n",
      "3. apple is red\n",
      "4. apple is red\n"
     ]
    }
   ],
   "source": [
    "# 문자열 포맷팅 ( 문자열과 데이터 결합 )\n",
    "print(\"1. {0} is {1}\".format('apple', 'red')) # 순서 기반 연결\n",
    "\n",
    "print(\"2. {item} is {color}\".format(item='apple', color='red')) # 이름 기반 연결\n",
    "\n",
    "args = { \"item\": 'apple', 'color': 'red' }\n",
    "print(\"3. {item} is {color}\".format(item=args['item'], color=args['color']))\n",
    "\n",
    "args = { \"item\": 'apple', 'color': 'red' }\n",
    "print(\"4. {item} is {color}\".format(**args)) # **args -> { ... } -> item='apple', color='red'\n"
   ]
  },
  {
   "cell_type": "code",
   "execution_count": 19,
   "metadata": {},
   "outputs": [
    {
     "name": "stdout",
     "output_type": "stream",
     "text": [
      "[111            ]\n",
      "[            111]\n",
      "[000000000000111]\n",
      "[000000000000111]\n",
      "[0001.111111e+02]\n",
      "[0000001.111e+02]\n",
      "[00000111.111110]\n",
      "[00000000111.111]\n",
      "[0000040.000000%]\n"
     ]
    }
   ],
   "source": [
    "print( '[{0:<15}]'.format(111) )\n",
    "print( '[{0:>15}]'.format(111) )\n",
    "print( '[{0:0>15}]'.format(111) )\n",
    "print( '[{0:0>15d}]'.format(111) )\n",
    "print( '[{0:0>15e}]'.format(111.11111) )\n",
    "print( '[{0:0>15.3e}]'.format(111.11111) )\n",
    "print( '[{0:0>15f}]'.format(111.11111) )\n",
    "print( '[{0:0>15.3f}]'.format(111.11111) )\n",
    "print( '[{0:0>15%}]'.format(2/5) )"
   ]
  },
  {
   "cell_type": "code",
   "execution_count": null,
   "metadata": {},
   "outputs": [],
   "source": []
  },
  {
   "cell_type": "code",
   "execution_count": 20,
   "metadata": {},
   "outputs": [],
   "source": [
    "# 파일에 데이터 쓰기\n",
    "\n",
    "f = open('test.txt', 'wt', encoding=\"utf-8\") # 파일 열기\n",
    "f.write('파일에 기록하는 데이터 1\\n')\n",
    "f.write('파일에 기록하는 데이터 2\\n')\n",
    "f.write('파일에 기록하는 데이터 3\\n')\n",
    "f.close()\n"
   ]
  },
  {
   "cell_type": "code",
   "execution_count": 23,
   "metadata": {},
   "outputs": [],
   "source": [
    "# 파일에 데이터 쓰기\n",
    "\n",
    "with open('test.txt', 'at', encoding=\"utf-8\") as f:\n",
    "    f.write('파일에 기록하는 데이터 4\\n')\n",
    "    f.write('파일에 기록하는 데이터 5\\n')\n",
    "    f.write('파일에 기록하는 데이터 6\\n')\n",
    "# with 구문이 종료될 때 자동으로 f.close() 호출"
   ]
  },
  {
   "cell_type": "code",
   "execution_count": 24,
   "metadata": {},
   "outputs": [
    {
     "name": "stdout",
     "output_type": "stream",
     "text": [
      "파일에 기록하는 데이터 4\n",
      "파일에 기록하는 데이터 5\n",
      "파일에 기록하는 데이터 6\n",
      "\n"
     ]
    }
   ],
   "source": [
    "# 파일에서 데이터 읽기\n",
    "\n",
    "with open('test.txt', 'rt', encoding='utf-8') as f:\n",
    "    print(f.read()) # file.read() : 전체 파일 내용 읽기\n"
   ]
  },
  {
   "cell_type": "code",
   "execution_count": 26,
   "metadata": {},
   "outputs": [
    {
     "name": "stdout",
     "output_type": "stream",
     "text": [
      "파일에 기록하는 데이터 4\n",
      "파일에 기록하는 데이터 5\n",
      "파일에 기록하는 데이터 6\n"
     ]
    }
   ],
   "source": [
    "# 파일에서 데이터 읽기\n",
    "\n",
    "with open('test.txt', 'rt', encoding='utf-8') as f:\n",
    "    lines = f.readlines() # # file.readlines() : 전체 파일 내용을 행 별로 읽기 -> 행의 배열로 반환\n",
    "    for line in lines:\n",
    "        print(line, end=\"\") "
   ]
  },
  {
   "cell_type": "code",
   "execution_count": 2,
   "metadata": {},
   "outputs": [
    {
     "name": "stdout",
     "output_type": "stream",
     "text": [
      "파일에 기록하는 데이터 4\n",
      "파일에 기록하는 데이터 5\n",
      "파일에 기록하는 데이터 6\n"
     ]
    }
   ],
   "source": [
    "# 파일에서 데이터 읽기\n",
    "\n",
    "with open('test.txt', 'rt', encoding='utf-8') as f:\n",
    "    while True:\n",
    "        line = f.readline() # 한 줄씩 데이터 읽기 ( 더 이상 읽을 데이터가 없으면 None 반환)\n",
    "        if not line: # end of file (eof) : 파일의 끝에 도달했을 때\n",
    "            break\n",
    "        print(line, end=\"\")"
   ]
  },
  {
   "cell_type": "code",
   "execution_count": 3,
   "metadata": {},
   "outputs": [
    {
     "name": "stdout",
     "output_type": "stream",
     "text": [
      "['파일에 기록하는 데이터 4\\n', '파일에 기록하는 데이터 5\\n', '파일에 기록하는 데이터 6\\n']\n",
      "108\n",
      "[]\n",
      "['파일에 기록하는 데이터 4\\n', '파일에 기록하는 데이터 5\\n', '파일에 기록하는 데이터 6\\n']\n"
     ]
    }
   ],
   "source": [
    "# 파일 작업 위치 탐색, 변경\n",
    "\n",
    "with open('test.txt', 'rt', encoding='utf-8') as f:\n",
    "    print( f.readlines() ) # 내용 읽기\n",
    "    print( f.tell() ) # 현재 파일의 작업 위치\n",
    "    print( f.readlines() ) # \n",
    "    f.seek(0) # 현재 파일의 작업 위치를 이동 \n",
    "    print(f.readlines())\n"
   ]
  },
  {
   "cell_type": "code",
   "execution_count": 4,
   "metadata": {},
   "outputs": [],
   "source": [
    "# binary 데이터 쓰기\n",
    "\n",
    "import pickle\n",
    "\n",
    "a = [1, 2, 3, 4, 5]\n",
    "b = [10, 20, 30, 40, 50]\n",
    "c = { 'a': 1, 'b': 2, 'c': 3}\n",
    "with open('data.dat', 'wb') as f:\n",
    "    pickle.dump(a, f)\n",
    "    pickle.dump(b, f)\n",
    "    pickle.dump(c, f)\n"
   ]
  },
  {
   "cell_type": "code",
   "execution_count": 5,
   "metadata": {},
   "outputs": [
    {
     "name": "stdout",
     "output_type": "stream",
     "text": [
      "[1, 2, 3, 4, 5]\n",
      "[10, 20, 30, 40, 50]\n",
      "{'a': 1, 'b': 2, 'c': 3}\n"
     ]
    }
   ],
   "source": [
    "# binary 데이터 읽기\n",
    "\n",
    "with open('data.dat', 'rb') as f:\n",
    "    a2 = pickle.load(f)\n",
    "    print(a2)\n",
    "    b2 = pickle.load(f)\n",
    "    print(b2)\n",
    "    c2 = pickle.load(f)\n",
    "    print(c2)"
   ]
  },
  {
   "cell_type": "code",
   "execution_count": 6,
   "metadata": {},
   "outputs": [],
   "source": [
    "# binary 데이터 쓰기 2\n",
    "import pickle\n",
    "\n",
    "a = [1, 2, 3, 4, 5]\n",
    "b = [10, 20, 30, 40, 50]\n",
    "c = { 'a': 1, 'b': 2, 'c': 3}\n",
    "with open('data2.dat', 'wb') as f:\n",
    "    pickle.dump([a, b, c], f) # 리스트의 리스트 저장"
   ]
  },
  {
   "cell_type": "code",
   "execution_count": 7,
   "metadata": {},
   "outputs": [
    {
     "name": "stdout",
     "output_type": "stream",
     "text": [
      "[[1, 2, 3, 4, 5], [10, 20, 30, 40, 50], {'a': 1, 'b': 2, 'c': 3}]\n"
     ]
    }
   ],
   "source": [
    "# binary 데이터 읽기 2\n",
    "with open('data2.dat', 'rb') as f:\n",
    "    lst = pickle.load(f)\n",
    "    print(lst)\n"
   ]
  }
 ],
 "metadata": {
  "interpreter": {
   "hash": "9c5dc79ccd275e4361875addd540f1c9fe94d1fe5a32da65e0af0c955a58bc0b"
  },
  "kernelspec": {
   "display_name": "Python 3.8.12 ('knitac-env')",
   "language": "python",
   "name": "python3"
  },
  "language_info": {
   "codemirror_mode": {
    "name": "ipython",
    "version": 3
   },
   "file_extension": ".py",
   "mimetype": "text/x-python",
   "name": "python",
   "nbconvert_exporter": "python",
   "pygments_lexer": "ipython3",
   "version": "3.8.12"
  },
  "orig_nbformat": 4
 },
 "nbformat": 4,
 "nbformat_minor": 2
}
