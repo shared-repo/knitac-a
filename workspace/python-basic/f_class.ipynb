{
 "cells": [
  {
   "cell_type": "code",
   "execution_count": 5,
   "metadata": {},
   "outputs": [],
   "source": [
    "# 클래스 만들기\n",
    "class Employee:\n",
    "    'Common base class for all employees' # 문서 주석, 설명 주석\n",
    "    \n",
    "    empCount = 0\n",
    "    \n",
    "    def __init__(self, name, salary):\n",
    "        self.name = name\n",
    "        self.salary = salary\n",
    "        Employee.empCount += 1\n",
    "    \n",
    "    def displayCount(self):\n",
    "        print(\"Total Employee %d\" % Employee.empCount)\n",
    "    \n",
    "    def displayEmployee(self):\n",
    "        print(\"Name : \", self.name, \", Salary: \", self.salary)\n"
   ]
  },
  {
   "cell_type": "code",
   "execution_count": 6,
   "metadata": {},
   "outputs": [
    {
     "name": "stdout",
     "output_type": "stream",
     "text": [
      "John Doe 10000000\n",
      "Name :  John Doe , Salary:  10000000\n"
     ]
    }
   ],
   "source": [
    "# 클래스 사용 ( 인스턴스 만들기 + 인스턴스의 멤버 변수 또는 멤버 함수 사용 )\n",
    "\n",
    "employee = Employee(\"John Doe\", 10000000) # 인스턴스 만들기 Employee() --> 변수에 저장 employee = ..\n",
    "\n",
    "print(employee.name, employee.salary) # 인스턴스.멤버변수 방식으로 사용\n",
    "employee.displayEmployee() # 인스턴스.멤버함수 방식으로 사용\n"
   ]
  },
  {
   "cell_type": "code",
   "execution_count": 7,
   "metadata": {},
   "outputs": [
    {
     "name": "stdout",
     "output_type": "stream",
     "text": [
      "<class 'int'>\n",
      "<class '__main__.Employee'>\n"
     ]
    }
   ],
   "source": [
    "a = 10\n",
    "print( type(a) )\n",
    "print( type(employee) )"
   ]
  },
  {
   "cell_type": "code",
   "execution_count": 14,
   "metadata": {},
   "outputs": [],
   "source": [
    "# 클래스 만들기 2\n",
    "class Person:\n",
    "\n",
    "    # def __init__(self): # 생성자 함수 : 인스턴스가 생성될 때 자동으로 호출\n",
    "    #     print('this is constructor 1')\n",
    "\n",
    "    # def __init__(self, name, phone, email): # 생성자 함수 : 인스턴스가 생성될 때 자동으로 호출\n",
    "    #     print('this is constructor 2') \n",
    "\n",
    "    def __init__(self, name=\"\", phone=\"\", email=\"\"): # 생성자 함수 : 인스턴스가 생성될 때 자동으로 호출\n",
    "        print('this is constructor 3')"
   ]
  },
  {
   "cell_type": "code",
   "execution_count": 15,
   "metadata": {},
   "outputs": [
    {
     "name": "stdout",
     "output_type": "stream",
     "text": [
      "this is constructor 3\n",
      "this is constructor 3\n"
     ]
    }
   ],
   "source": [
    "# 클래스 사용\n",
    "\n",
    "person = Person() # 인스턴스 만들기 ( + 변수에 저장 ) --> 이 때 __init__ 함수가 자동으로 호출됩니다.\n",
    "person = Person('John Doe', '010-6523-7854', 'johndoe@example.com')"
   ]
  },
  {
   "cell_type": "code",
   "execution_count": 18,
   "metadata": {},
   "outputs": [],
   "source": [
    "# 클래스 만들기 3\n",
    "class Person:\n",
    "\n",
    "    def __init__(self, name=\"\", phone=\"\", email=\"\"): # 생성자 함수 : 인스턴스가 생성될 때 자동으로 호출\n",
    "        self.name = name        # 인스턴스에 name 변수를 추가하고 초기화 (값 저장)\n",
    "        self.phone = phone      # 인스턴스에 phone 변수를 추가하고 초기화 (값 저장)\n",
    "        self.email = email      # 인스턴스에 email 변수를 추가하고 초기화 (값 저장)\n",
    "\n",
    "    def info(self):\n",
    "        return \"[{0}][{1}][{2}]\".format(self.name, self.phone, self.email)"
   ]
  },
  {
   "cell_type": "code",
   "execution_count": 19,
   "metadata": {},
   "outputs": [
    {
     "name": "stdout",
     "output_type": "stream",
     "text": [
      "John Doe johndoe@example.com 010-5411-7723\n",
      "[John Doe][010-5411-7723][johndoe@example.com]\n"
     ]
    }
   ],
   "source": [
    "# 클래스 사용\n",
    "person = Person(\"John Doe\", \"010-5411-7723\", \"johndoe@example.com\")\n",
    "print( person.name, person.email, person.phone ) # 직접 변수 접근 (권장하지 않습니다.)\n",
    "print( person.info() ) # 함수를 통해 변수에 접근 (권장)"
   ]
  },
  {
   "cell_type": "code",
   "execution_count": 27,
   "metadata": {},
   "outputs": [],
   "source": [
    "# 클래스 만들기 4\n",
    "class Person:\n",
    "\n",
    "    sharedVariable = 0 # 공유 변수 ( 클래스 변수 )\n",
    "\n",
    "    @classmethod # 공유 함수 (클래스 함수)를 만드는 설정\n",
    "    def setSharedVariable(cls, value): # 첫 번째 전달인자는 함수가 포함된 클래스 (여기서는 Person)\n",
    "        cls.sharedVariable = value\n",
    "\n",
    "    def __init__(self, name=\"\", phone=\"\", email=\"\"): # 생성자 함수 : 인스턴스가 생성될 때 자동으로 호출\n",
    "        self.name = name        # 인스턴스에 name 변수를 추가하고 초기화 (값 저장)\n",
    "        self.phone = phone      # 인스턴스에 phone 변수를 추가하고 초기화 (값 저장)\n",
    "        self.email = email      # 인스턴스에 email 변수를 추가하고 초기화 (값 저장)\n",
    "\n",
    "    def info(self):\n",
    "        return \"[{0}][{1}][{2}]\".format(self.name, self.phone, self.email)"
   ]
  },
  {
   "cell_type": "code",
   "execution_count": 28,
   "metadata": {},
   "outputs": [
    {
     "name": "stdout",
     "output_type": "stream",
     "text": [
      "[A][1][a.example.com]\n",
      "[B][2][b.example.com]\n",
      "[New Name][1][a.example.com]\n",
      "[B][2][b.example.com]\n",
      "******************************\n",
      "0\n",
      "100\n",
      "100\n"
     ]
    }
   ],
   "source": [
    "person1 = Person('A', '1', 'a.example.com')\n",
    "person2 = Person('B', '2', 'b.example.com')\n",
    "\n",
    "print( person1.info() )\n",
    "print( person2.info() )\n",
    "person1.name = \"New Name\" # 인스턴스 멤버 (self.변수)의 변경은 해당 인스턴스에만 영향을 미칩니다.\n",
    "print( person1.info() )\n",
    "print( person2.info() )\n",
    "print(\"*\" * 30)\n",
    "\n",
    "print( Person.sharedVariable ) # 공유 멤버는 클래스 이름으로 접근\n",
    "# Person.sharedVariable = 10 # 공유 멤버를 변경하면 모든 인스턴스에 동일하게 영향을 미칩니다.\n",
    "Person.setSharedVariable(100) # 공유 함수 사용 ( 공유 멤버 변경 -> 모든 인스턴스에 동일하게 영향 )\n",
    "print( person1.sharedVariable )\n",
    "print( person2.sharedVariable )\n"
   ]
  },
  {
   "cell_type": "code",
   "execution_count": null,
   "metadata": {},
   "outputs": [],
   "source": []
  },
  {
   "cell_type": "code",
   "execution_count": 33,
   "metadata": {},
   "outputs": [],
   "source": [
    "# 상속 클래스 만들기\n",
    "\n",
    "class Parent: # define parent class    \n",
    "    parentAttr = 100\n",
    "\n",
    "    def __init__(self):\n",
    "        print (\"Calling parent constructor\")\n",
    "    def parentMethod(self):\n",
    "        print ('Calling parent method')\n",
    "\n",
    "    def setAttr(self, attr):\n",
    "        Parent.parentAttr = attr\n",
    "    def getAttr(self):\n",
    "        print (\"Parent attribute :\", Parent.parentAttr)\n",
    "\n",
    "class Child (Parent): # define child class\n",
    "    \n",
    "    # 상속을 통해 Parent 클래스의 멤버가 자동으로 포함됩니다.\n",
    "    \n",
    "    def __init__(self):\n",
    "        print (\"Calling child constructor\")\n",
    "    def childMethod(self):\n",
    "        print ('Calling child method')\n"
   ]
  },
  {
   "cell_type": "code",
   "execution_count": 34,
   "metadata": {},
   "outputs": [
    {
     "name": "stdout",
     "output_type": "stream",
     "text": [
      "Calling child constructor\n",
      "Calling child method\n",
      "Calling parent method\n",
      "Parent attribute : 200\n"
     ]
    }
   ],
   "source": [
    "# 상속 테스트\n",
    "c = Child() # instance of child\n",
    "c.childMethod() # child calls its method\n",
    "c.parentMethod() # calls parent's method\n",
    "c.setAttr(200) # again call parent's method\n",
    "c.getAttr() # again call parent's method\n"
   ]
  },
  {
   "cell_type": "code",
   "execution_count": 36,
   "metadata": {},
   "outputs": [
    {
     "name": "stdout",
     "output_type": "stream",
     "text": [
      "True\n",
      "False\n",
      "True\n",
      "True\n",
      "True\n"
     ]
    }
   ],
   "source": [
    "# 상속 관계 확인하는 함수 : issubclass\n",
    "print( issubclass(Child, Parent) ) # True\n",
    "print( issubclass(Parent, Child) ) # False\n",
    "print( issubclass(Parent, Parent) ) # True\n",
    "print( issubclass(Parent, object) ) # True # object는 모든 파이썬 클래스의 부모 클래스\n",
    "print( issubclass(Child, object) ) # True"
   ]
  },
  {
   "cell_type": "code",
   "execution_count": 38,
   "metadata": {},
   "outputs": [
    {
     "name": "stdout",
     "output_type": "stream",
     "text": [
      "(<class 'object'>,)\n",
      "(<class '__main__.Parent'>,)\n"
     ]
    }
   ],
   "source": [
    "# 부모 클래스를 확인하는 멤버 변수\n",
    "print( Parent.__bases__ )\n",
    "print( Child.__bases__ )"
   ]
  },
  {
   "cell_type": "code",
   "execution_count": 43,
   "metadata": {},
   "outputs": [],
   "source": [
    "# 상속 후 확장 과 변경 (재정의)\n",
    "class Person:  \n",
    "    def __init__(self, name, phoneNumber): \n",
    "        self.Name = name \n",
    "        self.PhoneNumber = phoneNumber \n",
    "    def PrintInfo(self): \n",
    "        print(\"Info(Name:{0}, Phone Number: {1})\".format(self.Name, self.PhoneNumber)) \n",
    "    def PrintPersonData(self): \n",
    "        print(\"Person(Name:{0}, Phone Number: {1})\".format(self.Name, self.PhoneNumber))\n",
    "\n",
    "class Student(Person): \n",
    "    def __init__(self, name, phoneNumber, subject, studentID): \n",
    "        # self.Name = name \n",
    "        # self.PhoneNumber = phoneNumber\n",
    "        Person.__init__(self, name, phoneNumber) \n",
    "        self.Subject = subject \n",
    "        self.StudentID = studentID\n",
    "    \n",
    "    def PrintStudentData(self): # 확장 : 새로운 멤버 추가\n",
    "        print(\"Student(Subject: {0}, Student ID: {1})\".format(self.Subject, self.StudentID))\n",
    "\n",
    "    def PrintInfo(self): # 변경 : 부모의 멤버 수정 ( 재정의 )\n",
    "        # print(\"Info(Name:{0}, Phone Number:{1})\".format(self.Name, self.PhoneNumber)) \n",
    "        Person.PrintPersonData(self) \n",
    "        print(\"Info(Subject:{0}, Student ID:{1})\".format(self.Subject, self.StudentID))\n",
    "\n"
   ]
  },
  {
   "cell_type": "code",
   "execution_count": 44,
   "metadata": {},
   "outputs": [
    {
     "name": "stdout",
     "output_type": "stream",
     "text": [
      "Info(Name:John Doe, Phone Number: 010-9874-3214)\n",
      "******************************\n",
      "Person(Name:Jane Doe, Phone Number: 010-6541-9874)\n",
      "Info(Subject:Computer Science, Student ID:1)\n"
     ]
    }
   ],
   "source": [
    "person = Person('John Doe', '010-9874-3214')\n",
    "person.PrintInfo() # 부모 클래스 인스턴스로 호출하면 부모 클래스의 PrintInfo 호출\n",
    "print(\"*\" * 30)\n",
    "student = Student('Jane Doe', '010-6541-9874', 'Computer Science', '1')\n",
    "student.PrintInfo() # 자식 클래스 인스턴스로 호출하면 자식 클래스의 PrintInfo 호출"
   ]
  }
 ],
 "metadata": {
  "interpreter": {
   "hash": "9c5dc79ccd275e4361875addd540f1c9fe94d1fe5a32da65e0af0c955a58bc0b"
  },
  "kernelspec": {
   "display_name": "Python 3.8.12 ('knitac-env')",
   "language": "python",
   "name": "python3"
  },
  "language_info": {
   "codemirror_mode": {
    "name": "ipython",
    "version": 3
   },
   "file_extension": ".py",
   "mimetype": "text/x-python",
   "name": "python",
   "nbconvert_exporter": "python",
   "pygments_lexer": "ipython3",
   "version": "3.8.12"
  },
  "orig_nbformat": 4
 },
 "nbformat": 4,
 "nbformat_minor": 2
}
