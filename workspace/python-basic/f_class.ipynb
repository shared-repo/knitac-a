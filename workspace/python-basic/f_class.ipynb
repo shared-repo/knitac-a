{
 "cells": [
  {
   "cell_type": "code",
   "execution_count": 5,
   "metadata": {},
   "outputs": [],
   "source": [
    "# 클래스 만들기\n",
    "class Employee:\n",
    "    'Common base class for all employees' # 문서 주석, 설명 주석\n",
    "    \n",
    "    empCount = 0\n",
    "    \n",
    "    def __init__(self, name, salary):\n",
    "        self.name = name\n",
    "        self.salary = salary\n",
    "        Employee.empCount += 1\n",
    "    \n",
    "    def displayCount(self):\n",
    "        print(\"Total Employee %d\" % Employee.empCount)\n",
    "    \n",
    "    def displayEmployee(self):\n",
    "        print(\"Name : \", self.name, \", Salary: \", self.salary)\n"
   ]
  },
  {
   "cell_type": "code",
   "execution_count": 6,
   "metadata": {},
   "outputs": [
    {
     "name": "stdout",
     "output_type": "stream",
     "text": [
      "John Doe 10000000\n",
      "Name :  John Doe , Salary:  10000000\n"
     ]
    }
   ],
   "source": [
    "# 클래스 사용 ( 인스턴스 만들기 + 인스턴스의 멤버 변수 또는 멤버 함수 사용 )\n",
    "\n",
    "employee = Employee(\"John Doe\", 10000000) # 인스턴스 만들기 Employee() --> 변수에 저장 employee = ..\n",
    "\n",
    "print(employee.name, employee.salary) # 인스턴스.멤버변수 방식으로 사용\n",
    "employee.displayEmployee() # 인스턴스.멤버함수 방식으로 사용\n"
   ]
  },
  {
   "cell_type": "code",
   "execution_count": 7,
   "metadata": {},
   "outputs": [
    {
     "name": "stdout",
     "output_type": "stream",
     "text": [
      "<class 'int'>\n",
      "<class '__main__.Employee'>\n"
     ]
    }
   ],
   "source": [
    "a = 10\n",
    "print( type(a) )\n",
    "print( type(employee) )"
   ]
  },
  {
   "cell_type": "code",
   "execution_count": 14,
   "metadata": {},
   "outputs": [],
   "source": [
    "# 클래스 만들기 2\n",
    "class Person:\n",
    "\n",
    "    # def __init__(self): # 생성자 함수 : 인스턴스가 생성될 때 자동으로 호출\n",
    "    #     print('this is constructor 1')\n",
    "\n",
    "    # def __init__(self, name, phone, email): # 생성자 함수 : 인스턴스가 생성될 때 자동으로 호출\n",
    "    #     print('this is constructor 2') \n",
    "\n",
    "    def __init__(self, name=\"\", phone=\"\", email=\"\"): # 생성자 함수 : 인스턴스가 생성될 때 자동으로 호출\n",
    "        print('this is constructor 3')            "
   ]
  },
  {
   "cell_type": "code",
   "execution_count": 15,
   "metadata": {},
   "outputs": [
    {
     "name": "stdout",
     "output_type": "stream",
     "text": [
      "this is constructor 3\n",
      "this is constructor 3\n"
     ]
    }
   ],
   "source": [
    "# 클래스 사용\n",
    "\n",
    "person = Person() # 인스턴스 만들기 ( + 변수에 저장 ) --> 이 때 __init__ 함수가 자동으로 호출됩니다.\n",
    "person = Person('John Doe', '010-6523-7854', 'johndoe@example.com')"
   ]
  }
 ],
 "metadata": {
  "interpreter": {
   "hash": "9c5dc79ccd275e4361875addd540f1c9fe94d1fe5a32da65e0af0c955a58bc0b"
  },
  "kernelspec": {
   "display_name": "Python 3.8.12 ('knitac-env')",
   "language": "python",
   "name": "python3"
  },
  "language_info": {
   "codemirror_mode": {
    "name": "ipython",
    "version": 3
   },
   "file_extension": ".py",
   "mimetype": "text/x-python",
   "name": "python",
   "nbconvert_exporter": "python",
   "pygments_lexer": "ipython3",
   "version": "3.8.12"
  },
  "orig_nbformat": 4
 },
 "nbformat": 4,
 "nbformat_minor": 2
}
