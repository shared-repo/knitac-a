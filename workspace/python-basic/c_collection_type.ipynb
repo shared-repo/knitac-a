{
 "cells": [
  {
   "cell_type": "code",
   "execution_count": 1,
   "metadata": {},
   "outputs": [
    {
     "name": "stdout",
     "output_type": "stream",
     "text": [
      "[1, 2, 3]\n",
      "[1, 2, 'Life', 'is']\n"
     ]
    }
   ],
   "source": [
    "# 리스트 자료형 변수 만들기\n",
    "a = [ ] # a = list()\n",
    "b = [1, 2, 3]\n",
    "c = ['Life', 'is', 'too', 'short']\n",
    "d = [1, 2, 'Life', 'is']\n",
    "e = [1, 2, ['Life', 'is']]\n",
    "\n",
    "print(b)\n",
    "print(d)"
   ]
  },
  {
   "cell_type": "code",
   "execution_count": 2,
   "metadata": {},
   "outputs": [
    {
     "name": "stdout",
     "output_type": "stream",
     "text": [
      "1\n",
      "3\n"
     ]
    }
   ],
   "source": [
    "# 리스트 인덱싱\n",
    "a = [1, 2, 3]\n",
    "print( a[0] )\n",
    "print( a[-1] )"
   ]
  },
  {
   "cell_type": "code",
   "execution_count": 3,
   "metadata": {},
   "outputs": [
    {
     "name": "stdout",
     "output_type": "stream",
     "text": [
      "1\n",
      "['a', 'b', 'c']\n",
      "['a', 'b', 'c']\n",
      "b\n",
      "c\n"
     ]
    }
   ],
   "source": [
    "# 리스트 인덱싱\n",
    "a = [1, 2, 3, ['a', 'b', 'c']]\n",
    "print( a[0] )\n",
    "print( a[-1] ) # ['a', 'b', 'c']\n",
    "print( a[3] ) # ['a', 'b', 'c']\n",
    "print( a[-1][1] )\n",
    "print( a[-1][2] )"
   ]
  },
  {
   "cell_type": "code",
   "execution_count": 7,
   "metadata": {},
   "outputs": [
    {
     "name": "stdout",
     "output_type": "stream",
     "text": [
      "[1]\n",
      "12\n"
     ]
    }
   ],
   "source": [
    "a = [1, 2, 3, 4, 5]\n",
    "print( a[0:2] ) # 슬라이싱의 결과는 리스트\n",
    "a = \"12345\"\n",
    "print( a[0:2] )"
   ]
  },
  {
   "cell_type": "code",
   "execution_count": 9,
   "metadata": {},
   "outputs": [
    {
     "name": "stdout",
     "output_type": "stream",
     "text": [
      "[10, 20]\n",
      "[30, 40, 50]\n"
     ]
    }
   ],
   "source": [
    "a = [10, 20, 30, 40, 50]\n",
    "b = a[:2]\n",
    "c = a[2:] # 위치 2번째 데이터\n",
    "print( b )\n",
    "print( c )"
   ]
  },
  {
   "cell_type": "code",
   "execution_count": 16,
   "metadata": {},
   "outputs": [
    {
     "name": "stdout",
     "output_type": "stream",
     "text": [
      "[1, 2, 3]\n"
     ]
    },
    {
     "data": {
      "text/plain": [
       "[1, 2, 3, 4, 5, 6]"
      ]
     },
     "execution_count": 16,
     "metadata": {},
     "output_type": "execute_result"
    }
   ],
   "source": [
    "a = [1, 2, 3]\n",
    "b = [4, 5, 6]\n",
    "print( a ) \n",
    "a + b   # 마지막 행의 실행문을 반환 (출력)"
   ]
  },
  {
   "cell_type": "code",
   "execution_count": 17,
   "metadata": {},
   "outputs": [
    {
     "name": "stdout",
     "output_type": "stream",
     "text": [
      "[1, 2, 3, 1, 2, 3, 1, 2, 3]\n"
     ]
    }
   ],
   "source": [
    "a = [1, 2, 3]\n",
    "print( a * 3 )"
   ]
  },
  {
   "cell_type": "code",
   "execution_count": 18,
   "metadata": {},
   "outputs": [
    {
     "name": "stdout",
     "output_type": "stream",
     "text": [
      "[1, 2, 4]\n"
     ]
    }
   ],
   "source": [
    "# 리스트 값 변경 ( 단일 값 변경 )\n",
    "a = [1, 2, 3]\n",
    "a[2] = 4\n",
    "print( a )"
   ]
  },
  {
   "cell_type": "code",
   "execution_count": 21,
   "metadata": {},
   "outputs": [
    {
     "name": "stdout",
     "output_type": "stream",
     "text": [
      "[2] 2\n",
      "[1, ['a', 'b', 'c'], 4]\n"
     ]
    }
   ],
   "source": [
    "a = [1, 2, 4]\n",
    "print( a[1:2], a[1] )\n",
    "\n",
    "a[1] = ['a', 'b', 'c'] # 값 2를 ['a', 'b', 'c']로 교환\n",
    "print( a )"
   ]
  },
  {
   "cell_type": "code",
   "execution_count": 22,
   "metadata": {},
   "outputs": [
    {
     "name": "stdout",
     "output_type": "stream",
     "text": [
      "[2] 2\n",
      "[1, 'a', 'b', 'c', 4]\n"
     ]
    }
   ],
   "source": [
    "a = [1, 2, 4]\n",
    "print( a[1:2], a[1] )\n",
    "\n",
    "a[1:2] = ['a', 'b', 'c'] # 목록 [2]를 ['a', 'b', 'c']로 교환\n",
    "print( a )"
   ]
  },
  {
   "cell_type": "code",
   "execution_count": 24,
   "metadata": {},
   "outputs": [
    {
     "name": "stdout",
     "output_type": "stream",
     "text": [
      "[1, 2, 3, 4]\n",
      "[1, 10, 2, 3, 4]\n"
     ]
    }
   ],
   "source": [
    "a = [1, 2, 3]\n",
    "a.append(4) # 목록의 끝에 데이터 추가\n",
    "print( a )\n",
    "a.insert(1, 10) # 목록의 지정된 위치에 데이터 추가\n",
    "print( a )"
   ]
  },
  {
   "cell_type": "code",
   "execution_count": 27,
   "metadata": {},
   "outputs": [
    {
     "name": "stdout",
     "output_type": "stream",
     "text": [
      "[1, 2, 3, 4]\n",
      "[4, 3, 2, 1]\n"
     ]
    }
   ],
   "source": [
    "# 정렬과 역순재배치\n",
    "a = [1, 4, 3, 2]\n",
    "a.sort()\n",
    "print(a)\n",
    "a.reverse()\n",
    "print(a)"
   ]
  },
  {
   "cell_type": "code",
   "execution_count": 3,
   "metadata": {},
   "outputs": [
    {
     "name": "stdout",
     "output_type": "stream",
     "text": [
      "2\n",
      "0\n"
     ]
    },
    {
     "ename": "ValueError",
     "evalue": "100 is not in list",
     "output_type": "error",
     "traceback": [
      "\u001b[1;31m---------------------------------------------------------------------------\u001b[0m",
      "\u001b[1;31mValueError\u001b[0m                                Traceback (most recent call last)",
      "Input \u001b[1;32mIn [3]\u001b[0m, in \u001b[0;36m<module>\u001b[1;34m\u001b[0m\n\u001b[0;32m      3\u001b[0m \u001b[38;5;28mprint\u001b[39m( a\u001b[38;5;241m.\u001b[39mindex(\u001b[38;5;241m3\u001b[39m) )\n\u001b[0;32m      4\u001b[0m \u001b[38;5;28mprint\u001b[39m( a\u001b[38;5;241m.\u001b[39mindex(\u001b[38;5;241m1\u001b[39m) )\n\u001b[1;32m----> 5\u001b[0m \u001b[38;5;28mprint\u001b[39m( \u001b[43ma\u001b[49m\u001b[38;5;241;43m.\u001b[39;49m\u001b[43mindex\u001b[49m\u001b[43m(\u001b[49m\u001b[38;5;241;43m100\u001b[39;49m\u001b[43m)\u001b[49m )\n",
      "\u001b[1;31mValueError\u001b[0m: 100 is not in list"
     ]
    }
   ],
   "source": [
    "# 포함된 데이터 위치 찾기\n",
    "a = [1,2,3]\n",
    "print( a.index(3) )\n",
    "print( a.index(1) )\n",
    "print( a.index(100) )"
   ]
  },
  {
   "cell_type": "code",
   "execution_count": 5,
   "metadata": {},
   "outputs": [
    {
     "name": "stdout",
     "output_type": "stream",
     "text": [
      "[1, 2, 1, 2, 3]\n",
      "[1, 2, 1, 2]\n"
     ]
    }
   ],
   "source": [
    "a = [1, 2, 3, 1, 2, 3]\n",
    "a.remove(3)\n",
    "print(a)\n",
    "a.remove(3)\n",
    "print(a)"
   ]
  },
  {
   "cell_type": "code",
   "execution_count": 7,
   "metadata": {},
   "outputs": [
    {
     "name": "stdout",
     "output_type": "stream",
     "text": [
      "2\n",
      "[1, 3]\n"
     ]
    }
   ],
   "source": [
    "# 목록에서 데이터 뽑기 ( 읽고 지우기 )\n",
    "a = [1,2,3]\n",
    "selected = a.pop()\n",
    "print(selected)\n",
    "print(a)"
   ]
  },
  {
   "cell_type": "code",
   "execution_count": 9,
   "metadata": {},
   "outputs": [
    {
     "name": "stdout",
     "output_type": "stream",
     "text": [
      "2\n",
      "0\n"
     ]
    }
   ],
   "source": [
    "# 갯수 세기\n",
    "a = [1,2,3,1]\n",
    "print( a.count(1) )\n",
    "print( a.count(100) )\n"
   ]
  },
  {
   "cell_type": "code",
   "execution_count": 12,
   "metadata": {},
   "outputs": [
    {
     "name": "stdout",
     "output_type": "stream",
     "text": [
      "[1, 2, 3, 4, 5]\n",
      "[1, 2, 3, 4, 5]\n"
     ]
    }
   ],
   "source": [
    "# 리스트 확장\n",
    "a = [1,2,3]\n",
    "a.extend([4,5])\n",
    "print( a )\n",
    "print([1, 2, 3] + [4, 5])"
   ]
  },
  {
   "cell_type": "code",
   "execution_count": null,
   "metadata": {},
   "outputs": [],
   "source": []
  },
  {
   "cell_type": "code",
   "execution_count": 15,
   "metadata": {},
   "outputs": [
    {
     "name": "stdout",
     "output_type": "stream",
     "text": [
      "()\n",
      "(1,)\n",
      "(1, 2, 3)\n",
      "(1, 2, 3)\n",
      "('a', 'b', ('ab', 'cd'))\n"
     ]
    }
   ],
   "source": [
    "# 튜플 만들기\n",
    "t1 = ()\n",
    "t2 = (1,) # ,가 없으면 단일 값\n",
    "t3 = (1, 2, 3)\n",
    "t4 = 1, 2, 3\n",
    "t5 = ('a', 'b', ('ab', 'cd'))\n",
    "\n",
    "print( t1 )\n",
    "print( t2 )\n",
    "print( t3 )\n",
    "print( t4 )\n",
    "print( t5 )"
   ]
  },
  {
   "cell_type": "code",
   "execution_count": 17,
   "metadata": {},
   "outputs": [
    {
     "ename": "TypeError",
     "evalue": "'tuple' object does not support item assignment",
     "output_type": "error",
     "traceback": [
      "\u001b[1;31m---------------------------------------------------------------------------\u001b[0m",
      "\u001b[1;31mTypeError\u001b[0m                                 Traceback (most recent call last)",
      "Input \u001b[1;32mIn [17]\u001b[0m, in \u001b[0;36m<module>\u001b[1;34m\u001b[0m\n\u001b[0;32m      1\u001b[0m t1 \u001b[38;5;241m=\u001b[39m (\u001b[38;5;241m1\u001b[39m, \u001b[38;5;241m2\u001b[39m, \u001b[38;5;124m'\u001b[39m\u001b[38;5;124ma\u001b[39m\u001b[38;5;124m'\u001b[39m, \u001b[38;5;124m'\u001b[39m\u001b[38;5;124mb\u001b[39m\u001b[38;5;124m'\u001b[39m)\n\u001b[0;32m      2\u001b[0m \u001b[38;5;66;03m# del t1[0]\u001b[39;00m\n\u001b[1;32m----> 3\u001b[0m t1[\u001b[38;5;241m0\u001b[39m] \u001b[38;5;241m=\u001b[39m \u001b[38;5;241m100\u001b[39m\n",
      "\u001b[1;31mTypeError\u001b[0m: 'tuple' object does not support item assignment"
     ]
    }
   ],
   "source": [
    "# 튜플은 읽기 전용 ( 수정 X )\n",
    "t1 = (1, 2, 'a', 'b')\n",
    "# del t1[0]\n",
    "t1[0] = 100"
   ]
  },
  {
   "cell_type": "code",
   "execution_count": null,
   "metadata": {},
   "outputs": [],
   "source": []
  },
  {
   "cell_type": "code",
   "execution_count": 18,
   "metadata": {},
   "outputs": [
    {
     "name": "stdout",
     "output_type": "stream",
     "text": [
      "{'name': 'pey', 'phone': '0119993323', 'birth': '1118'}\n",
      "{1: 'hi'}\n",
      "{'a': [1, 2, 3]}\n"
     ]
    }
   ],
   "source": [
    "# 딕셔너리 만들기\n",
    "dic = {'name':'pey', 'phone':'0119993323', 'birth': '1118'}\n",
    "a1 = {1: 'hi'}\n",
    "a2 = {'a': [1,2,3]}\n",
    "\n",
    "print( dic )\n",
    "print( a1 )\n",
    "print( a2 )"
   ]
  },
  {
   "cell_type": "code",
   "execution_count": 24,
   "metadata": {},
   "outputs": [
    {
     "name": "stdout",
     "output_type": "stream",
     "text": [
      "{1: 'a'}\n",
      "{1: 'a', 2: 'b'}\n",
      "{1: 'a', 2: 'b', 'name': 'pey'}\n",
      "{1: 'a', 2: 'b', 'name': 'john doe'}\n",
      "{1: 'modified', 2: 'b', 'name': 'john doe', 4: 'appended'}\n"
     ]
    }
   ],
   "source": [
    "# 항목 추가\n",
    "\n",
    "a = {1: 'a'}\n",
    "print( a )\n",
    "a[2] = 'b' # a[2] : 여기서 2는 위치 번호가 아니라 key를 의미합니다.\n",
    "print( a )\n",
    "a['name'] = 'pey'\n",
    "print( a )\n",
    "a['name'] = 'john doe'\n",
    "print( a )\n",
    "\n",
    "a.update({1: 'modified', 4: 'appended'}) # 기존 딕셔너리에 새 딕셔너리 결합\n",
    "print( a )\n"
   ]
  },
  {
   "cell_type": "code",
   "execution_count": 25,
   "metadata": {},
   "outputs": [
    {
     "name": "stdout",
     "output_type": "stream",
     "text": [
      "{2: 'b', 'name': 'john doe', 4: 'appended'}\n"
     ]
    }
   ],
   "source": [
    "# 딕셔너리 값 삭제\n",
    "del a[1] # key가 1인 항목 제거\n",
    "print( a )\n"
   ]
  },
  {
   "cell_type": "code",
   "execution_count": 29,
   "metadata": {},
   "outputs": [
    {
     "name": "stdout",
     "output_type": "stream",
     "text": [
      "dict_keys(['name', 'phone', 'birth'])\n",
      "dict_values(['pey', '0119993323', '1118'])\n",
      "dict_items([('name', 'pey'), ('phone', '0119993323'), ('birth', '1118')])\n",
      "['name', 'phone', 'birth']\n"
     ]
    }
   ],
   "source": [
    "# 딕셔너리 함수\n",
    "a = {'name': 'pey', 'phone': '0119993323', 'birth': '1118'}\n",
    "print( a.keys() )\n",
    "print( a.values() )\n",
    "print( a.items() )\n",
    "\n",
    "print( list(a.keys()) ) # dict_keys -> list 형식으로 변환\n"
   ]
  },
  {
   "cell_type": "code",
   "execution_count": 35,
   "metadata": {},
   "outputs": [
    {
     "name": "stdout",
     "output_type": "stream",
     "text": [
      "pey\n",
      "pey\n",
      "None\n",
      "not exist\n",
      "True\n",
      "False\n"
     ]
    }
   ],
   "source": [
    "# 딕셔너리 함수\n",
    "a = {'name':'pey', 'phone':'0119993323', 'birth': '1118'}\n",
    "\n",
    "print( a.get('name') )\n",
    "print( a['name'] )\n",
    "\n",
    "print( a.get('name2') ) # 없는 데이터인 경우 None 반환\n",
    "# print( a['name2'] )     # 없는 데이터인 경우 오류 발생\n",
    "\n",
    "print( a.get('name2', 'not exist') ) # 없는 데이터인 경우 'not exist' 반환\n",
    "\n",
    "print( 'name' in a )\n",
    "print( 'name2' in a )"
   ]
  },
  {
   "cell_type": "code",
   "execution_count": null,
   "metadata": {},
   "outputs": [],
   "source": []
  }
 ],
 "metadata": {
  "interpreter": {
   "hash": "9c5dc79ccd275e4361875addd540f1c9fe94d1fe5a32da65e0af0c955a58bc0b"
  },
  "kernelspec": {
   "display_name": "Python 3.8.12 64-bit ('knitac-env': conda)",
   "language": "python",
   "name": "python3"
  },
  "language_info": {
   "codemirror_mode": {
    "name": "ipython",
    "version": 3
   },
   "file_extension": ".py",
   "mimetype": "text/x-python",
   "name": "python",
   "nbconvert_exporter": "python",
   "pygments_lexer": "ipython3",
   "version": "3.8.12"
  },
  "orig_nbformat": 4
 },
 "nbformat": 4,
 "nbformat_minor": 2
}
