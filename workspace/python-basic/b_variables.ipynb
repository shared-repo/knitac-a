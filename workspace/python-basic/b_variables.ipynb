{
 "cells": [
  {
   "cell_type": "code",
   "execution_count": 1,
   "metadata": {},
   "outputs": [
    {
     "name": "stdout",
     "output_type": "stream",
     "text": [
      "1 John Doe 010-6524-8852 johndoe@example.com True\n"
     ]
    }
   ],
   "source": [
    "# 변수 만들기\n",
    "no = 1\n",
    "name = \"John Doe\"\n",
    "phone = \"010-6524-8852\"\n",
    "email = \"johndoe@example.com\"\n",
    "isAdmin = True # False\n",
    "\n",
    "print(no, name, phone, email, isAdmin) # print : 화면에 내용을 표시하는 명령\n"
   ]
  },
  {
   "cell_type": "code",
   "execution_count": 6,
   "metadata": {},
   "outputs": [
    {
     "name": "stdout",
     "output_type": "stream",
     "text": [
      "20\n",
      "1010\n",
      "10\n",
      "v1\n"
     ]
    }
   ],
   "source": [
    "print( 10 + 10 )    # 숫자 10\n",
    "print( \"10\" + \"10\") # 문자열 \"10\"\n",
    "v1 = 10\n",
    "print(v1)   # 변수 v1\n",
    "print(\"v1\") # 문자열 \"v1\""
   ]
  },
  {
   "cell_type": "code",
   "execution_count": null,
   "metadata": {},
   "outputs": [],
   "source": []
  }
 ],
 "metadata": {
  "interpreter": {
   "hash": "9c5dc79ccd275e4361875addd540f1c9fe94d1fe5a32da65e0af0c955a58bc0b"
  },
  "kernelspec": {
   "display_name": "Python 3.8.12 64-bit ('knitac-env': conda)",
   "language": "python",
   "name": "python3"
  },
  "language_info": {
   "codemirror_mode": {
    "name": "ipython",
    "version": 3
   },
   "file_extension": ".py",
   "mimetype": "text/x-python",
   "name": "python",
   "nbconvert_exporter": "python",
   "pygments_lexer": "ipython3",
   "version": "3.8.12"
  },
  "orig_nbformat": 4
 },
 "nbformat": 4,
 "nbformat_minor": 2
}
