{
 "cells": [
  {
   "cell_type": "code",
   "execution_count": 1,
   "metadata": {},
   "outputs": [
    {
     "name": "stdout",
     "output_type": "stream",
     "text": [
      "1 John Doe 010-6524-8852 johndoe@example.com True\n"
     ]
    }
   ],
   "source": [
    "# 변수 만들기\n",
    "no = 1\n",
    "name = \"John Doe\"\n",
    "phone = \"010-6524-8852\"\n",
    "email = \"johndoe@example.com\"\n",
    "isAdmin = True # False\n",
    "\n",
    "print(no, name, phone, email, isAdmin) # print : 화면에 내용을 표시하는 명령\n"
   ]
  },
  {
   "cell_type": "code",
   "execution_count": 6,
   "metadata": {},
   "outputs": [
    {
     "name": "stdout",
     "output_type": "stream",
     "text": [
      "20\n",
      "1010\n",
      "10\n",
      "v1\n"
     ]
    }
   ],
   "source": [
    "print( 10 + 10 )    # 숫자 10\n",
    "print( \"10\" + \"10\") # 문자열 \"10\"\n",
    "v1 = 10\n",
    "print(v1)   # 변수 v1\n",
    "print(\"v1\") # 문자열 \"v1\""
   ]
  },
  {
   "cell_type": "code",
   "execution_count": 8,
   "metadata": {},
   "outputs": [
    {
     "name": "stdout",
     "output_type": "stream",
     "text": [
      "10 20 30\n",
      "100 200 300\n"
     ]
    }
   ],
   "source": [
    "# 변수에 값 저장\n",
    "a = 10\n",
    "b = 20\n",
    "c = 30\n",
    "print(a, b, c)\n",
    "\n",
    "x, y, z = 100, 200, 300 # x = 100; y = 200; z = 300\n",
    "print(x, y, z)"
   ]
  },
  {
   "cell_type": "code",
   "execution_count": 9,
   "metadata": {},
   "outputs": [
    {
     "name": "stdout",
     "output_type": "stream",
     "text": [
      "10\n"
     ]
    },
    {
     "ename": "NameError",
     "evalue": "name 'a' is not defined",
     "output_type": "error",
     "traceback": [
      "\u001b[1;31m---------------------------------------------------------------------------\u001b[0m",
      "\u001b[1;31mNameError\u001b[0m                                 Traceback (most recent call last)",
      "Input \u001b[1;32mIn [9]\u001b[0m, in \u001b[0;36m<module>\u001b[1;34m\u001b[0m\n\u001b[0;32m      2\u001b[0m \u001b[38;5;28mprint\u001b[39m(a)\n\u001b[0;32m      3\u001b[0m \u001b[38;5;28;01mdel\u001b[39;00m a\n\u001b[1;32m----> 4\u001b[0m \u001b[38;5;28mprint\u001b[39m(\u001b[43ma\u001b[49m)\n",
      "\u001b[1;31mNameError\u001b[0m: name 'a' is not defined"
     ]
    }
   ],
   "source": [
    "a = 10\n",
    "print(a)\n",
    "del a       # 변수 제거\n",
    "print(a)    # 오류 : del로 제거한 변수는 사용할 수 없습니다."
   ]
  },
  {
   "cell_type": "code",
   "execution_count": 13,
   "metadata": {},
   "outputs": [
    {
     "name": "stdout",
     "output_type": "stream",
     "text": [
      "13 7 30 3.3333333333333335\n",
      "3 1\n"
     ]
    }
   ],
   "source": [
    "# 나눗셈 연산, 나머지 연산\n",
    "a = 10\n",
    "b = 3\n",
    "print( a + b, a - b, a * b, a / b ) # 연산자 동작 확인\n",
    "print( a // b, a % b )\n"
   ]
  },
  {
   "cell_type": "code",
   "execution_count": 15,
   "metadata": {},
   "outputs": [
    {
     "name": "stdout",
     "output_type": "stream",
     "text": [
      "20\n",
      "1010\n",
      "20\n"
     ]
    }
   ],
   "source": [
    "# 형변환\n",
    "print( 10 + 10 )\n",
    "print( \"10\" + \"10\" ) # \"1010\"\n",
    "print( int(\"10\") + int(\"10\") ) # int(\"10\") --> 문자열 \"10\"을 정수 10으로 변경"
   ]
  },
  {
   "cell_type": "code",
   "execution_count": 17,
   "metadata": {},
   "outputs": [
    {
     "name": "stdout",
     "output_type": "stream",
     "text": [
      "hello\n",
      "hello\n",
      "hello hi\n",
      "hello\n",
      "         hi\n"
     ]
    }
   ],
   "source": [
    "# 문자 자료형\n",
    "print('hello')\n",
    "print(\"hello\")\n",
    "print(\"hello hi\")   # 단일 행 문자열\n",
    "print(\"\"\"hello\n",
    "         hi\"\"\")     # \"\"\" or ''' : 다중 행 문자열 표현"
   ]
  },
  {
   "cell_type": "code",
   "execution_count": 19,
   "metadata": {},
   "outputs": [
    {
     "name": "stdout",
     "output_type": "stream",
     "text": [
      "pythonpython\n",
      "##################################################\n"
     ]
    }
   ],
   "source": [
    "print(\"python\" * 2)\n",
    "print(\"#\" * 50)"
   ]
  },
  {
   "cell_type": "code",
   "execution_count": 21,
   "metadata": {},
   "outputs": [
    {
     "name": "stdout",
     "output_type": "stream",
     "text": [
      "f\n",
      "abcdef\n",
      "abcdef\n",
      "defghi\n"
     ]
    }
   ],
   "source": [
    "# 문자열 슬라이싱, 인덱싱\n",
    "print( \"abcdefghi\"[5] )\n",
    "print( \"abcdefghi\"[0:-3] )\n",
    "print( \"abcdefghi\"[:-3] )\n",
    "print( \"abcdefghi\"[3:] )"
   ]
  },
  {
   "cell_type": "code",
   "execution_count": 26,
   "metadata": {},
   "outputs": [
    {
     "name": "stdout",
     "output_type": "stream",
     "text": [
      "Name : Jane Doe, Age : 35\n",
      "Name : Jane Doe, Age : 35\n",
      "Name : Jane Doe, Age : 35\n"
     ]
    }
   ],
   "source": [
    "name = 'Jane Doe'\n",
    "age = 35\n",
    "message = \"Name : \" + name + \", Age : \" + str(age) # str(숫자) : 숫자를 문자열로 변경\n",
    "print(message)\n",
    "\n",
    "message2 = \"Name : %s, Age : %d\" % (name, age)\n",
    "print(message2)\n",
    "\n",
    "message3 = \"Name : {0}, Age : {1}\".format(name, age)\n",
    "print(message3)"
   ]
  },
  {
   "cell_type": "code",
   "execution_count": 27,
   "metadata": {},
   "outputs": [
    {
     "name": "stdout",
     "output_type": "stream",
     "text": [
      "Life is too short!!!\n",
      "\tYou need \"python\"\n"
     ]
    }
   ],
   "source": [
    "multiline = \"Life is too short!!!\\n\\tYou need \\\"python\\\"\"\n",
    "print(multiline)\n"
   ]
  },
  {
   "cell_type": "code",
   "execution_count": null,
   "metadata": {},
   "outputs": [],
   "source": []
  }
 ],
 "metadata": {
  "interpreter": {
   "hash": "9c5dc79ccd275e4361875addd540f1c9fe94d1fe5a32da65e0af0c955a58bc0b"
  },
  "kernelspec": {
   "display_name": "Python 3.8.12 64-bit ('knitac-env': conda)",
   "language": "python",
   "name": "python3"
  },
  "language_info": {
   "codemirror_mode": {
    "name": "ipython",
    "version": 3
   },
   "file_extension": ".py",
   "mimetype": "text/x-python",
   "name": "python",
   "nbconvert_exporter": "python",
   "pygments_lexer": "ipython3",
   "version": "3.8.12"
  },
  "orig_nbformat": 4
 },
 "nbformat": 4,
 "nbformat_minor": 2
}
