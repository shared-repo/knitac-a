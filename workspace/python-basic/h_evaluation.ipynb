{
 "cells": [
  {
   "cell_type": "code",
   "execution_count": 1,
   "metadata": {},
   "outputs": [
    {
     "name": "stdout",
     "output_type": "stream",
     "text": [
      "a :  3\n",
      "f :  2\n"
     ]
    }
   ],
   "source": [
    "# 문자열에서 특정 문자의 갯수 찾기 : \"문자열\".count('찾는문자')\n",
    "src = \"abcdefabcdfxyab\"\n",
    "print( \"a : \", src.count('a') )\n",
    "print( \"f : \", src.count('f') )"
   ]
  },
  {
   "cell_type": "code",
   "execution_count": 2,
   "metadata": {},
   "outputs": [
    {
     "name": "stdout",
     "output_type": "stream",
     "text": [
      "{'e', 'a', 'b', 'x', 'f', 'd', 'c', 'y'}\n"
     ]
    }
   ],
   "source": [
    "# 문자열에서 중복을 제거하고 포함된 모든 문자 가져오기 1 : set 함수 사용\n",
    "src = \"abcdefabcdfxyab\"\n",
    "ch_list = set(src)\n",
    "print(ch_list)\n"
   ]
  },
  {
   "cell_type": "code",
   "execution_count": 6,
   "metadata": {},
   "outputs": [
    {
     "name": "stdout",
     "output_type": "stream",
     "text": [
      "['a', 'b', 'c', 'd', 'e', 'f', 'x', 'y']\n"
     ]
    }
   ],
   "source": [
    "# 문자열에서 중복을 제거하고 포함된 모든 문자 가져오기 2 : 직접 구현\n",
    "src = \"abcdefabcdfxyab\"\n",
    "ch_list2 = []\n",
    "for ch in src:\n",
    "    if ch not in ch_list2:\n",
    "        ch_list2.append(ch)\n",
    "\n",
    "print(ch_list2)"
   ]
  },
  {
   "cell_type": "code",
   "execution_count": 7,
   "metadata": {},
   "outputs": [
    {
     "name": "stdout",
     "output_type": "stream",
     "text": [
      "['a', 'b', 'c', 'd', 'e', 'f', 'x', 'y']\n",
      "['a', 'b', 'c', 'd', 'e', 'f', 'x', 'y']\n"
     ]
    }
   ],
   "source": [
    "# 리스트 정렬\n",
    "sorted_ch_list = sorted(ch_list)\n",
    "sorted_ch_list2 = sorted(ch_list2)\n",
    "\n",
    "print( sorted_ch_list )\n",
    "print( sorted_ch_list2 )"
   ]
  },
  {
   "cell_type": "code",
   "execution_count": 9,
   "metadata": {},
   "outputs": [
    {
     "name": "stdout",
     "output_type": "stream",
     "text": [
      "{'a': 3, 'b': 3, 'c': 2, 'd': 2, 'e': 1, 'f': 2, 'x': 1, 'y': 1}\n"
     ]
    }
   ],
   "source": [
    "# 문자와 문자 갯수 딕셔너리 만들기 : { 'a': 10, 'b': 4, ... }\n",
    "\n",
    "ch_cnt_dict = {}\n",
    "for ch in sorted_ch_list:\n",
    "    ch_cnt_dict[ch] = src.count(ch)\n",
    "\n",
    "print(ch_cnt_dict)"
   ]
  },
  {
   "cell_type": "code",
   "execution_count": null,
   "metadata": {},
   "outputs": [],
   "source": []
  },
  {
   "cell_type": "code",
   "execution_count": null,
   "metadata": {},
   "outputs": [],
   "source": [
    "# 클래스 만들기\n",
    "class ClassName:\n",
    "\n",
    "    def __init__(self):\n",
    "        self.my_list = []\n",
    "\n",
    "    def m1(self):\n",
    "        pass\n",
    "\n",
    "    def m2(self):\n",
    "        pass\n",
    "\n",
    "    def m3(self):\n",
    "        pass"
   ]
  },
  {
   "cell_type": "code",
   "execution_count": 10,
   "metadata": {},
   "outputs": [
    {
     "data": {
      "text/plain": [
       "[10, 8, 25]"
      ]
     },
     "execution_count": 10,
     "metadata": {},
     "output_type": "execute_result"
    }
   ],
   "source": [
    "# 리스트에 값 추가 ( put 함수를 위한 설명 코드 )\n",
    "my_list = []\n",
    "my_list.append(10)\n",
    "my_list.append(8)\n",
    "my_list.append(25)\n",
    "\n",
    "my_list"
   ]
  },
  {
   "cell_type": "code",
   "execution_count": null,
   "metadata": {},
   "outputs": [],
   "source": [
    "# 선입선출 구조 구현 ( get 함수 구현시 참조,  1. 첫 번째 항목을 읽고 and 2. 목록에서 제거 )\n",
    "\n",
    "my_list = [1, 2, 3, 4, 5, 6, 7]\n",
    "\n",
    "first_data = my_list[0] # 첫 번째 항목 읽기\n",
    "my_list = my_list[1:] # 첫 번째 항목 제거\n",
    "\n",
    "# first_data = my_list[0] # 첫 번째 항목 읽기\n",
    "# my_list.remove(first_data) # 첫 번째 항목 제거\n",
    "\n",
    "# first_data = my_list.pop(0) # 첫 번째 항목 읽기 + 제거"
   ]
  }
 ],
 "metadata": {
  "interpreter": {
   "hash": "9c5dc79ccd275e4361875addd540f1c9fe94d1fe5a32da65e0af0c955a58bc0b"
  },
  "kernelspec": {
   "display_name": "Python 3.8.12 ('knitac-env')",
   "language": "python",
   "name": "python3"
  },
  "language_info": {
   "codemirror_mode": {
    "name": "ipython",
    "version": 3
   },
   "file_extension": ".py",
   "mimetype": "text/x-python",
   "name": "python",
   "nbconvert_exporter": "python",
   "pygments_lexer": "ipython3",
   "version": "3.8.12"
  },
  "orig_nbformat": 4
 },
 "nbformat": 4,
 "nbformat_minor": 2
}
