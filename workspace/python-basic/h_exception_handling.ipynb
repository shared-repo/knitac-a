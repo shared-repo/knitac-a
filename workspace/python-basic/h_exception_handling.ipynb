{
 "cells": [
  {
   "cell_type": "code",
   "execution_count": 13,
   "metadata": {},
   "outputs": [
    {
     "ename": "NotImplementedError",
     "evalue": "('서비스 준비중입니다.', '감사합니다.')",
     "output_type": "error",
     "traceback": [
      "\u001b[1;31m---------------------------------------------------------------------------\u001b[0m",
      "\u001b[1;31mNotImplementedError\u001b[0m                       Traceback (most recent call last)",
      "\u001b[1;32md:\\python-web\\knitac-a\\workspace\\python-basic\\h_exception_handling.ipynb Cell 1'\u001b[0m in \u001b[0;36m<module>\u001b[1;34m\u001b[0m\n\u001b[0;32m      <a href='vscode-notebook-cell:/d%3A/python-web/knitac-a/workspace/python-basic/h_exception_handling.ipynb#ch0000000?line=7'>8</a>\u001b[0m     f\u001b[39m.\u001b[39mclose()\n\u001b[0;32m      <a href='vscode-notebook-cell:/d%3A/python-web/knitac-a/workspace/python-basic/h_exception_handling.ipynb#ch0000000?line=8'>9</a>\u001b[0m \u001b[39melif\u001b[39;00m no \u001b[39m==\u001b[39m \u001b[39m2\u001b[39m:\n\u001b[0;32m     <a href='vscode-notebook-cell:/d%3A/python-web/knitac-a/workspace/python-basic/h_exception_handling.ipynb#ch0000000?line=9'>10</a>\u001b[0m     \u001b[39m# raise : 강제로 예외를 발생시키는 명령어\u001b[39;00m\n\u001b[1;32m---> <a href='vscode-notebook-cell:/d%3A/python-web/knitac-a/workspace/python-basic/h_exception_handling.ipynb#ch0000000?line=10'>11</a>\u001b[0m     \u001b[39mraise\u001b[39;00m \u001b[39mNotImplementedError\u001b[39;00m(\u001b[39m\"\u001b[39m\u001b[39m서비스 준비중입니다.\u001b[39m\u001b[39m\"\u001b[39m, \u001b[39m\"\u001b[39m\u001b[39m감사합니다.\u001b[39m\u001b[39m\"\u001b[39m)\n\u001b[0;32m     <a href='vscode-notebook-cell:/d%3A/python-web/knitac-a/workspace/python-basic/h_exception_handling.ipynb#ch0000000?line=11'>12</a>\u001b[0m \u001b[39melse\u001b[39;00m:\n\u001b[0;32m     <a href='vscode-notebook-cell:/d%3A/python-web/knitac-a/workspace/python-basic/h_exception_handling.ipynb#ch0000000?line=12'>13</a>\u001b[0m     \u001b[39mprint\u001b[39m(\u001b[39m\"\u001b[39m\u001b[39m정상 실행\u001b[39m\u001b[39m\"\u001b[39m)\n",
      "\u001b[1;31mNotImplementedError\u001b[0m: ('서비스 준비중입니다.', '감사합니다.')"
     ]
    }
   ],
   "source": [
    "# 예외(오류) 발생 확인\n",
    "\n",
    "import random\n",
    "\n",
    "no = random.randrange(0, 4) # 0 or 1 or 2 or 3\n",
    "if no == 0:\n",
    "    result = 10 / 0\n",
    "elif no == 1:\n",
    "    f = open('test.txt', 'rt')\n",
    "    f.close()\n",
    "elif no == 2:\n",
    "    # raise : 강제로 예외를 발생시키는 명령어\n",
    "    raise NotImplementedError(\"서비스 준비중입니다.\", \"감사합니다.\")\n",
    "else:\n",
    "    print(\"정상 실행\")"
   ]
  },
  {
   "cell_type": "code",
   "execution_count": 26,
   "metadata": {},
   "outputs": [
    {
     "name": "stdout",
     "output_type": "stream",
     "text": [
      "오류 발생 - 오류를 처리하고 정상 실행으로 돌아갑니다.\n"
     ]
    }
   ],
   "source": [
    "# 예외 처리 \n",
    "import random\n",
    "\n",
    "try: # 예외 모니터링 영역 설정 -> try 관리 영역에서 발생한 오류만 처리할 수 있습니다.\n",
    "    no = random.randrange(0, 4) # 0 or 1 or 2 or 3\n",
    "    if no == 0:\n",
    "        result = 10 / 0\n",
    "    elif no == 1:\n",
    "        f = open('test.txt', 'rt')\n",
    "        f.close()\n",
    "    elif no == 2:\n",
    "        # raise : 강제로 예외를 발생시키는 명령어\n",
    "        raise NotImplementedError(\"서비스 준비중입니다.\", \"감사합니다.\")\n",
    "    else:\n",
    "        print(\"정상 실행\")\n",
    "except:\n",
    "    print(\"오류 발생 - 오류를 처리하고 정상 실행으로 돌아갑니다.\")"
   ]
  }
 ],
 "metadata": {
  "interpreter": {
   "hash": "9c5dc79ccd275e4361875addd540f1c9fe94d1fe5a32da65e0af0c955a58bc0b"
  },
  "kernelspec": {
   "display_name": "Python 3.8.12 ('knitac-env')",
   "language": "python",
   "name": "python3"
  },
  "language_info": {
   "codemirror_mode": {
    "name": "ipython",
    "version": 3
   },
   "file_extension": ".py",
   "mimetype": "text/x-python",
   "name": "python",
   "nbconvert_exporter": "python",
   "pygments_lexer": "ipython3",
   "version": "3.8.12"
  },
  "orig_nbformat": 4
 },
 "nbformat": 4,
 "nbformat_minor": 2
}
