{
 "cells": [
  {
   "cell_type": "code",
   "execution_count": 16,
   "metadata": {},
   "outputs": [
    {
     "ename": "FileNotFoundError",
     "evalue": "[Errno 2] No such file or directory: 'test.txt'",
     "output_type": "error",
     "traceback": [
      "\u001b[1;31m---------------------------------------------------------------------------\u001b[0m",
      "\u001b[1;31mFileNotFoundError\u001b[0m                         Traceback (most recent call last)",
      "\u001b[1;32md:\\python-web\\knitac-a\\workspace\\python-basic\\h_exception_handling.ipynb Cell 1'\u001b[0m in \u001b[0;36m<module>\u001b[1;34m\u001b[0m\n\u001b[0;32m      <a href='vscode-notebook-cell:/d%3A/python-web/knitac-a/workspace/python-basic/h_exception_handling.ipynb#ch0000000?line=6'>7</a>\u001b[0m     result \u001b[39m=\u001b[39m \u001b[39m10\u001b[39m \u001b[39m/\u001b[39m \u001b[39m0\u001b[39m\n\u001b[0;32m      <a href='vscode-notebook-cell:/d%3A/python-web/knitac-a/workspace/python-basic/h_exception_handling.ipynb#ch0000000?line=7'>8</a>\u001b[0m \u001b[39melif\u001b[39;00m no \u001b[39m==\u001b[39m \u001b[39m1\u001b[39m:\n\u001b[1;32m----> <a href='vscode-notebook-cell:/d%3A/python-web/knitac-a/workspace/python-basic/h_exception_handling.ipynb#ch0000000?line=8'>9</a>\u001b[0m     f \u001b[39m=\u001b[39m \u001b[39mopen\u001b[39;49m(\u001b[39m'\u001b[39;49m\u001b[39mtest.txt\u001b[39;49m\u001b[39m'\u001b[39;49m, \u001b[39m'\u001b[39;49m\u001b[39mrt\u001b[39;49m\u001b[39m'\u001b[39;49m)\n\u001b[0;32m     <a href='vscode-notebook-cell:/d%3A/python-web/knitac-a/workspace/python-basic/h_exception_handling.ipynb#ch0000000?line=9'>10</a>\u001b[0m     f\u001b[39m.\u001b[39mclose()\n\u001b[0;32m     <a href='vscode-notebook-cell:/d%3A/python-web/knitac-a/workspace/python-basic/h_exception_handling.ipynb#ch0000000?line=10'>11</a>\u001b[0m \u001b[39melif\u001b[39;00m no \u001b[39m==\u001b[39m \u001b[39m2\u001b[39m:\n\u001b[0;32m     <a href='vscode-notebook-cell:/d%3A/python-web/knitac-a/workspace/python-basic/h_exception_handling.ipynb#ch0000000?line=11'>12</a>\u001b[0m     \u001b[39m# raise : 강제로 예외를 발생시키는 명령어\u001b[39;00m\n",
      "\u001b[1;31mFileNotFoundError\u001b[0m: [Errno 2] No such file or directory: 'test.txt'"
     ]
    }
   ],
   "source": [
    "# 예외(오류) 발생 확인\n",
    "\n",
    "import random\n",
    "\n",
    "no = random.randrange(0, 4) # 0 or 1 or 2 or 3\n",
    "if no == 0:\n",
    "    result = 10 / 0\n",
    "elif no == 1:\n",
    "    f = open('test.txt', 'rt')\n",
    "    f.close()\n",
    "elif no == 2:\n",
    "    # raise : 강제로 예외를 발생시키는 명령어\n",
    "    raise NotImplementedError(\"서비스 준비중입니다.\", \"감사합니다.\")\n",
    "else:\n",
    "    print(\"정상 실행\")"
   ]
  },
  {
   "cell_type": "code",
   "execution_count": 3,
   "metadata": {},
   "outputs": [
    {
     "name": "stdout",
     "output_type": "stream",
     "text": [
      "오류 발생 - 오류를 처리하고 정상 실행으로 돌아갑니다.\n"
     ]
    }
   ],
   "source": [
    "# 예외 처리 1\n",
    "import random\n",
    "\n",
    "try: # 예외 모니터링 영역 설정 -> try 관리 영역에서 발생한 오류만 처리할 수 있습니다.\n",
    "    no = random.randrange(0, 4) # 0 or 1 or 2 or 3\n",
    "    if no == 0:\n",
    "        result = 10 / 0\n",
    "    elif no == 1:\n",
    "        f = open('test.txt', 'rt')\n",
    "        f.close()\n",
    "    elif no == 2:\n",
    "        # raise : 강제로 예외를 발생시키는 명령어\n",
    "        raise NotImplementedError(\"서비스 준비중입니다.\", \"감사합니다.\")\n",
    "    else:\n",
    "        print(\"정상 실행\")\n",
    "except: # try 영역에서 발생한 모든 오류를 수신하고 처리\n",
    "    print(\"오류 발생 - 오류를 처리하고 정상 실행으로 돌아갑니다.\")"
   ]
  },
  {
   "cell_type": "code",
   "execution_count": 23,
   "metadata": {},
   "outputs": [
    {
     "name": "stdout",
     "output_type": "stream",
     "text": [
      "0으로 나누는 산술 오류를 처리하고 정상 실행으로 돌아갑니다.\n"
     ]
    }
   ],
   "source": [
    "# 예외 처리 2\n",
    "import random\n",
    "\n",
    "try: # 예외 모니터링 영역 설정 -> try 관리 영역에서 발생한 오류만 처리할 수 있습니다.\n",
    "    no = random.randrange(0, 4) # 0 or 1 or 2 or 3\n",
    "    if no == 0:\n",
    "        result = 10 / 0\n",
    "    elif no == 1:\n",
    "        f = open('test.txt', 'rt')\n",
    "        f.close()\n",
    "    elif no == 2:\n",
    "        # raise : 강제로 예외를 발생시키는 명령어\n",
    "        raise NotImplementedError(\"서비스 준비중입니다.\", \"감사합니다.\")\n",
    "    else:\n",
    "        print(\"정상 실행\")\n",
    "except FileNotFoundError: # try 영역에서 발생한 FileNotFoundError 오류를 수신하고 처리\n",
    "    print(\"파일 없음 오류를 처리하고 정상 실행으로 돌아갑니다.\")\n",
    "except ZeroDivisionError: # try 영역에서 발생한 ZeroDivisionError 오류를 수신하고 처리\n",
    "    print(\"0으로 나누는 산술 오류를 처리하고 정상 실행으로 돌아갑니다.\")\n",
    "except NotImplementedError: # try 영역에서 발생한 NotImplementedError 오류를 수신하고 처리\n",
    "    print(\"미구현 오류를 처리하고 정상 실행으로 돌아갑니다.\")\n",
    "except BaseException: # 예외 상속관계에서 부모 예외는 마지막에 처리되어야 합니다.\n",
    "    print(\"알 수 없는 오류를 처리하고 정상 실행으로 돌아갑니다.\")"
   ]
  },
  {
   "cell_type": "code",
   "execution_count": 30,
   "metadata": {},
   "outputs": [
    {
     "name": "stdout",
     "output_type": "stream",
     "text": [
      "[Errno 2] No such file or directory: 'test.txt'\n",
      "파일 없음 오류를 처리하고 정상 실행으로 돌아갑니다.\n"
     ]
    }
   ],
   "source": [
    "# 예외 처리 3\n",
    "import random\n",
    "\n",
    "try: # 예외 모니터링 영역 설정 -> try 관리 영역에서 발생한 오류만 처리할 수 있습니다.\n",
    "    no = random.randrange(0, 4) # 0 or 1 or 2 or 3\n",
    "    if no == 0:\n",
    "        result = 10 / 0\n",
    "    elif no == 1:\n",
    "        f = open('test.txt', 'rt')\n",
    "        f.close()\n",
    "    elif no == 2:\n",
    "        # raise : 강제로 예외를 발생시키는 명령어\n",
    "        raise NotImplementedError(\"서비스 준비중입니다.\", \"감사합니다.\")\n",
    "    else:\n",
    "        print(\"정상 실행\")\n",
    "except FileNotFoundError as err: # 발생한 오류 정보를 변수로 받아서 사용\n",
    "    print(err)\n",
    "    print(\"파일 없음 오류를 처리하고 정상 실행으로 돌아갑니다.\")\n",
    "except ZeroDivisionError as err:\n",
    "    print(err)\n",
    "    print(\"0으로 나누는 산술 오류를 처리하고 정상 실행으로 돌아갑니다.\")\n",
    "except NotImplementedError as err:\n",
    "    print(err)\n",
    "    print(\"미구현 오류를 처리하고 정상 실행으로 돌아갑니다.\")"
   ]
  },
  {
   "cell_type": "code",
   "execution_count": 35,
   "metadata": {},
   "outputs": [
    {
     "name": "stdout",
     "output_type": "stream",
     "text": [
      "파일 없음 오류를 처리하고 정상 실행으로 돌아갑니다.\n",
      "예외 발생관 관계 없이 무조건 실행되는 영역\n"
     ]
    }
   ],
   "source": [
    "# 예외 처리 4\n",
    "import random\n",
    "\n",
    "try: # 예외 모니터링 영역 설정 -> try 관리 영역에서 발생한 오류만 처리할 수 있습니다.\n",
    "    no = random.randrange(0, 4) # 0 or 1 or 2 or 3\n",
    "    if no == 0:\n",
    "        result = 10 / 0\n",
    "    elif no == 1:\n",
    "        f = open('test.txt', 'rt')\n",
    "        f.close()\n",
    "    elif no == 2:\n",
    "        # raise : 강제로 예외를 발생시키는 명령어\n",
    "        raise NotImplementedError(\"서비스 준비중입니다.\", \"감사합니다.\")\n",
    "    else:\n",
    "        print(\"정상 실행\")\n",
    "except FileNotFoundError as err: # 발생한 오류 정보를 변수로 받아서 사용\n",
    "    print(\"파일 없음 오류를 처리하고 정상 실행으로 돌아갑니다.\")\n",
    "except ZeroDivisionError as err:\n",
    "    print(\"0으로 나누는 산술 오류를 처리하고 정상 실행으로 돌아갑니다.\")\n",
    "except NotImplementedError as err:\n",
    "    print(\"미구현 오류를 처리하고 정상 실행으로 돌아갑니다.\")\n",
    "else:\n",
    "    print(\"정상 실행인 경우 (예외가 발생하지 않은 경우)에만 실행되는 영역\")\n",
    "finally:\n",
    "    print(\"예외 발생관 관계 없이 무조건 실행되는 영역\")"
   ]
  },
  {
   "cell_type": "code",
   "execution_count": 37,
   "metadata": {},
   "outputs": [
    {
     "name": "stdout",
     "output_type": "stream",
     "text": [
      "Error - Second argument of PositiveDivide is  -3\n"
     ]
    }
   ],
   "source": [
    "# 사용자 정의 오류\n",
    "class NegativeDivisionError(Exception): # Exception 상속 사용자 정의 예외 클래스\n",
    "    def __init__(self, value): \n",
    "        self.value = value\n",
    "\n",
    "def PositiveDivide(a, b): \n",
    "    if(b < 0): \n",
    "        raise NegativeDivisionError(b) \n",
    "    return a / b\n",
    "\n",
    "try: \n",
    "    ret = PositiveDivide(10, -3) \n",
    "    print('10 / 3 = {0}'.format(ret))\n",
    "except NegativeDivisionError as e: \n",
    "    print('Error - Second argument of PositiveDivide is ', e.value)\n",
    "except ZeroDivisionError as e: \n",
    "    print('Error - ', e.args[0])\n",
    "except : \n",
    "    print(\"Unexpected exception!\")"
   ]
  }
 ],
 "metadata": {
  "interpreter": {
   "hash": "9c5dc79ccd275e4361875addd540f1c9fe94d1fe5a32da65e0af0c955a58bc0b"
  },
  "kernelspec": {
   "display_name": "Python 3.8.12 ('knitac-env')",
   "language": "python",
   "name": "python3"
  },
  "language_info": {
   "codemirror_mode": {
    "name": "ipython",
    "version": 3
   },
   "file_extension": ".py",
   "mimetype": "text/x-python",
   "name": "python",
   "nbconvert_exporter": "python",
   "pygments_lexer": "ipython3",
   "version": "3.8.12"
  },
  "orig_nbformat": 4
 },
 "nbformat": 4,
 "nbformat_minor": 2
}
